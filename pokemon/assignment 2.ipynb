{
 "cells": [
  {
   "cell_type": "markdown",
   "id": "f55d50e2",
   "metadata": {},
   "source": [
    "### \n",
    "Date: 30/06/2021\n",
    "\n",
    "Name: ADITI RAJESH DALAVI\n",
    "\n",
    "Email_id: aditidalavi7337@gmail.com\n",
    "\n",
    "Module Code: ML-13\n",
    "\n",
    "Title: Basic Python blocks\n",
    "\n",
    "Skills/Competencies to be acquired:\n",
    "1. Accepting values from users\n",
    "2. Creating function for input validation of the data\n",
    "3. Exception\n",
    "4. Use of Control statement\n",
    "\n",
    "Duration of activity: 1 Hour\n",
    "\n",
    "\n",
    "1. What is the purpose of this activity?\n",
    "\n",
    "    To do Descriptive analysis.\n",
    "    Interpret the data.\n",
    "    Find the frequency distribution of the data.\n",
    "    Find central tendency and measures of spread.Interpret it.\n",
    "    Find skewness and Kurtosis. Interpret it.\n",
    "\n",
    "\n",
    "\n",
    "2. Steps performed in this activity.\n",
    "\n",
    "    Read the data.\n",
    "    Import the required libraries.\n",
    "    Analyise the data, group them, and explore the data.\n",
    "    Plot the distributions of each exploration.\n",
    "    Find central tendency and measures of spread.Interpret it.\n",
    "    Find skewness and Kurtosis. Interpret it.\n",
    "\n",
    "\n",
    "\n",
    "3. What resources / materials / equipment / tools did you use for this activity?\n",
    "\n",
    "    Python for coding.\n",
    "    Libraries: pandas, numpy, seaborn, matplotlib, matplot.pyplot, statistics.\n",
    "\n",
    "\n",
    "\n",
    "4. What skills did you acquire?\n",
    "\n",
    "    Python skills.\n",
    "    Developed logic.\n",
    "    Skills to interpret the data.\n",
    "    Learnt to plot distribution of data.\n",
    "\n",
    "\n",
    "5. Time taken to complete the activity?\n",
    "\n",
    "    5 hours."
   ]
  },
  {
   "cell_type": "code",
   "execution_count": null,
   "id": "e743fae0",
   "metadata": {},
   "outputs": [],
   "source": []
  },
  {
   "cell_type": "code",
   "execution_count": 1,
   "id": "36467207",
   "metadata": {},
   "outputs": [],
   "source": [
    "import pandas as pd\n",
    "import numpy as np\n",
    "import seaborn as sys\n",
    "import matplotlib\n",
    "import matplotlib.pyplot as plt\n",
    "from matplotlib import style\n",
    "import statistics as stats"
   ]
  },
  {
   "cell_type": "code",
   "execution_count": 2,
   "id": "ae9f978a",
   "metadata": {},
   "outputs": [],
   "source": [
    "pk = pd.read_csv(r\"C:\\Users\\aditi\\Desktop\\ML 13\\assignment\\Pokemon.csv\")"
   ]
  },
  {
   "cell_type": "code",
   "execution_count": 3,
   "id": "34968095",
   "metadata": {},
   "outputs": [
    {
     "data": {
      "text/html": [
       "<div>\n",
       "<style scoped>\n",
       "    .dataframe tbody tr th:only-of-type {\n",
       "        vertical-align: middle;\n",
       "    }\n",
       "\n",
       "    .dataframe tbody tr th {\n",
       "        vertical-align: top;\n",
       "    }\n",
       "\n",
       "    .dataframe thead th {\n",
       "        text-align: right;\n",
       "    }\n",
       "</style>\n",
       "<table border=\"1\" class=\"dataframe\">\n",
       "  <thead>\n",
       "    <tr style=\"text-align: right;\">\n",
       "      <th></th>\n",
       "      <th>#</th>\n",
       "      <th>Name</th>\n",
       "      <th>Type 1</th>\n",
       "      <th>Type 2</th>\n",
       "      <th>Total</th>\n",
       "      <th>HP</th>\n",
       "      <th>Attack</th>\n",
       "      <th>Defense</th>\n",
       "      <th>Sp. Atk</th>\n",
       "      <th>Sp. Def</th>\n",
       "      <th>Speed</th>\n",
       "      <th>Generation</th>\n",
       "      <th>Legendary</th>\n",
       "    </tr>\n",
       "  </thead>\n",
       "  <tbody>\n",
       "    <tr>\n",
       "      <th>0</th>\n",
       "      <td>1</td>\n",
       "      <td>Bulbasaur</td>\n",
       "      <td>Grass</td>\n",
       "      <td>Poison</td>\n",
       "      <td>318</td>\n",
       "      <td>45</td>\n",
       "      <td>49</td>\n",
       "      <td>49</td>\n",
       "      <td>65</td>\n",
       "      <td>65</td>\n",
       "      <td>45</td>\n",
       "      <td>1</td>\n",
       "      <td>False</td>\n",
       "    </tr>\n",
       "    <tr>\n",
       "      <th>1</th>\n",
       "      <td>2</td>\n",
       "      <td>Ivysaur</td>\n",
       "      <td>Grass</td>\n",
       "      <td>Poison</td>\n",
       "      <td>405</td>\n",
       "      <td>60</td>\n",
       "      <td>62</td>\n",
       "      <td>63</td>\n",
       "      <td>80</td>\n",
       "      <td>80</td>\n",
       "      <td>60</td>\n",
       "      <td>1</td>\n",
       "      <td>False</td>\n",
       "    </tr>\n",
       "    <tr>\n",
       "      <th>2</th>\n",
       "      <td>3</td>\n",
       "      <td>Venusaur</td>\n",
       "      <td>Grass</td>\n",
       "      <td>Poison</td>\n",
       "      <td>525</td>\n",
       "      <td>80</td>\n",
       "      <td>82</td>\n",
       "      <td>83</td>\n",
       "      <td>100</td>\n",
       "      <td>100</td>\n",
       "      <td>80</td>\n",
       "      <td>1</td>\n",
       "      <td>False</td>\n",
       "    </tr>\n",
       "    <tr>\n",
       "      <th>3</th>\n",
       "      <td>3</td>\n",
       "      <td>VenusaurMega Venusaur</td>\n",
       "      <td>Grass</td>\n",
       "      <td>Poison</td>\n",
       "      <td>625</td>\n",
       "      <td>80</td>\n",
       "      <td>100</td>\n",
       "      <td>123</td>\n",
       "      <td>122</td>\n",
       "      <td>120</td>\n",
       "      <td>80</td>\n",
       "      <td>1</td>\n",
       "      <td>False</td>\n",
       "    </tr>\n",
       "    <tr>\n",
       "      <th>4</th>\n",
       "      <td>4</td>\n",
       "      <td>Charmander</td>\n",
       "      <td>Fire</td>\n",
       "      <td>NaN</td>\n",
       "      <td>309</td>\n",
       "      <td>39</td>\n",
       "      <td>52</td>\n",
       "      <td>43</td>\n",
       "      <td>60</td>\n",
       "      <td>50</td>\n",
       "      <td>65</td>\n",
       "      <td>1</td>\n",
       "      <td>False</td>\n",
       "    </tr>\n",
       "    <tr>\n",
       "      <th>...</th>\n",
       "      <td>...</td>\n",
       "      <td>...</td>\n",
       "      <td>...</td>\n",
       "      <td>...</td>\n",
       "      <td>...</td>\n",
       "      <td>...</td>\n",
       "      <td>...</td>\n",
       "      <td>...</td>\n",
       "      <td>...</td>\n",
       "      <td>...</td>\n",
       "      <td>...</td>\n",
       "      <td>...</td>\n",
       "      <td>...</td>\n",
       "    </tr>\n",
       "    <tr>\n",
       "      <th>795</th>\n",
       "      <td>719</td>\n",
       "      <td>Diancie</td>\n",
       "      <td>Rock</td>\n",
       "      <td>Fairy</td>\n",
       "      <td>600</td>\n",
       "      <td>50</td>\n",
       "      <td>100</td>\n",
       "      <td>150</td>\n",
       "      <td>100</td>\n",
       "      <td>150</td>\n",
       "      <td>50</td>\n",
       "      <td>6</td>\n",
       "      <td>True</td>\n",
       "    </tr>\n",
       "    <tr>\n",
       "      <th>796</th>\n",
       "      <td>719</td>\n",
       "      <td>DiancieMega Diancie</td>\n",
       "      <td>Rock</td>\n",
       "      <td>Fairy</td>\n",
       "      <td>700</td>\n",
       "      <td>50</td>\n",
       "      <td>160</td>\n",
       "      <td>110</td>\n",
       "      <td>160</td>\n",
       "      <td>110</td>\n",
       "      <td>110</td>\n",
       "      <td>6</td>\n",
       "      <td>True</td>\n",
       "    </tr>\n",
       "    <tr>\n",
       "      <th>797</th>\n",
       "      <td>720</td>\n",
       "      <td>HoopaHoopa Confined</td>\n",
       "      <td>Psychic</td>\n",
       "      <td>Ghost</td>\n",
       "      <td>600</td>\n",
       "      <td>80</td>\n",
       "      <td>110</td>\n",
       "      <td>60</td>\n",
       "      <td>150</td>\n",
       "      <td>130</td>\n",
       "      <td>70</td>\n",
       "      <td>6</td>\n",
       "      <td>True</td>\n",
       "    </tr>\n",
       "    <tr>\n",
       "      <th>798</th>\n",
       "      <td>720</td>\n",
       "      <td>HoopaHoopa Unbound</td>\n",
       "      <td>Psychic</td>\n",
       "      <td>Dark</td>\n",
       "      <td>680</td>\n",
       "      <td>80</td>\n",
       "      <td>160</td>\n",
       "      <td>60</td>\n",
       "      <td>170</td>\n",
       "      <td>130</td>\n",
       "      <td>80</td>\n",
       "      <td>6</td>\n",
       "      <td>True</td>\n",
       "    </tr>\n",
       "    <tr>\n",
       "      <th>799</th>\n",
       "      <td>721</td>\n",
       "      <td>Volcanion</td>\n",
       "      <td>Fire</td>\n",
       "      <td>Water</td>\n",
       "      <td>600</td>\n",
       "      <td>80</td>\n",
       "      <td>110</td>\n",
       "      <td>120</td>\n",
       "      <td>130</td>\n",
       "      <td>90</td>\n",
       "      <td>70</td>\n",
       "      <td>6</td>\n",
       "      <td>True</td>\n",
       "    </tr>\n",
       "  </tbody>\n",
       "</table>\n",
       "<p>800 rows × 13 columns</p>\n",
       "</div>"
      ],
      "text/plain": [
       "       #                   Name   Type 1  Type 2  Total  HP  Attack  Defense  \\\n",
       "0      1              Bulbasaur    Grass  Poison    318  45      49       49   \n",
       "1      2                Ivysaur    Grass  Poison    405  60      62       63   \n",
       "2      3               Venusaur    Grass  Poison    525  80      82       83   \n",
       "3      3  VenusaurMega Venusaur    Grass  Poison    625  80     100      123   \n",
       "4      4             Charmander     Fire     NaN    309  39      52       43   \n",
       "..   ...                    ...      ...     ...    ...  ..     ...      ...   \n",
       "795  719                Diancie     Rock   Fairy    600  50     100      150   \n",
       "796  719    DiancieMega Diancie     Rock   Fairy    700  50     160      110   \n",
       "797  720    HoopaHoopa Confined  Psychic   Ghost    600  80     110       60   \n",
       "798  720     HoopaHoopa Unbound  Psychic    Dark    680  80     160       60   \n",
       "799  721              Volcanion     Fire   Water    600  80     110      120   \n",
       "\n",
       "     Sp. Atk  Sp. Def  Speed  Generation  Legendary  \n",
       "0         65       65     45           1      False  \n",
       "1         80       80     60           1      False  \n",
       "2        100      100     80           1      False  \n",
       "3        122      120     80           1      False  \n",
       "4         60       50     65           1      False  \n",
       "..       ...      ...    ...         ...        ...  \n",
       "795      100      150     50           6       True  \n",
       "796      160      110    110           6       True  \n",
       "797      150      130     70           6       True  \n",
       "798      170      130     80           6       True  \n",
       "799      130       90     70           6       True  \n",
       "\n",
       "[800 rows x 13 columns]"
      ]
     },
     "execution_count": 3,
     "metadata": {},
     "output_type": "execute_result"
    }
   ],
   "source": [
    "pk"
   ]
  },
  {
   "cell_type": "markdown",
   "id": "4273ddb9",
   "metadata": {},
   "source": [
    "### In this given data, 13 columns and 800 rows are present. "
   ]
  },
  {
   "cell_type": "code",
   "execution_count": 4,
   "id": "9654fd7b",
   "metadata": {},
   "outputs": [
    {
     "data": {
      "text/html": [
       "<div>\n",
       "<style scoped>\n",
       "    .dataframe tbody tr th:only-of-type {\n",
       "        vertical-align: middle;\n",
       "    }\n",
       "\n",
       "    .dataframe tbody tr th {\n",
       "        vertical-align: top;\n",
       "    }\n",
       "\n",
       "    .dataframe thead th {\n",
       "        text-align: right;\n",
       "    }\n",
       "</style>\n",
       "<table border=\"1\" class=\"dataframe\">\n",
       "  <thead>\n",
       "    <tr style=\"text-align: right;\">\n",
       "      <th></th>\n",
       "      <th>#</th>\n",
       "      <th>Name</th>\n",
       "      <th>Type 1</th>\n",
       "      <th>Type 2</th>\n",
       "      <th>Total</th>\n",
       "      <th>HP</th>\n",
       "      <th>Attack</th>\n",
       "      <th>Defense</th>\n",
       "      <th>Sp. Atk</th>\n",
       "      <th>Sp. Def</th>\n",
       "      <th>Speed</th>\n",
       "      <th>Generation</th>\n",
       "      <th>Legendary</th>\n",
       "    </tr>\n",
       "  </thead>\n",
       "  <tbody>\n",
       "    <tr>\n",
       "      <th>0</th>\n",
       "      <td>1</td>\n",
       "      <td>Bulbasaur</td>\n",
       "      <td>Grass</td>\n",
       "      <td>Poison</td>\n",
       "      <td>318</td>\n",
       "      <td>45</td>\n",
       "      <td>49</td>\n",
       "      <td>49</td>\n",
       "      <td>65</td>\n",
       "      <td>65</td>\n",
       "      <td>45</td>\n",
       "      <td>1</td>\n",
       "      <td>False</td>\n",
       "    </tr>\n",
       "    <tr>\n",
       "      <th>1</th>\n",
       "      <td>2</td>\n",
       "      <td>Ivysaur</td>\n",
       "      <td>Grass</td>\n",
       "      <td>Poison</td>\n",
       "      <td>405</td>\n",
       "      <td>60</td>\n",
       "      <td>62</td>\n",
       "      <td>63</td>\n",
       "      <td>80</td>\n",
       "      <td>80</td>\n",
       "      <td>60</td>\n",
       "      <td>1</td>\n",
       "      <td>False</td>\n",
       "    </tr>\n",
       "    <tr>\n",
       "      <th>2</th>\n",
       "      <td>3</td>\n",
       "      <td>Venusaur</td>\n",
       "      <td>Grass</td>\n",
       "      <td>Poison</td>\n",
       "      <td>525</td>\n",
       "      <td>80</td>\n",
       "      <td>82</td>\n",
       "      <td>83</td>\n",
       "      <td>100</td>\n",
       "      <td>100</td>\n",
       "      <td>80</td>\n",
       "      <td>1</td>\n",
       "      <td>False</td>\n",
       "    </tr>\n",
       "    <tr>\n",
       "      <th>3</th>\n",
       "      <td>3</td>\n",
       "      <td>VenusaurMega Venusaur</td>\n",
       "      <td>Grass</td>\n",
       "      <td>Poison</td>\n",
       "      <td>625</td>\n",
       "      <td>80</td>\n",
       "      <td>100</td>\n",
       "      <td>123</td>\n",
       "      <td>122</td>\n",
       "      <td>120</td>\n",
       "      <td>80</td>\n",
       "      <td>1</td>\n",
       "      <td>False</td>\n",
       "    </tr>\n",
       "    <tr>\n",
       "      <th>4</th>\n",
       "      <td>4</td>\n",
       "      <td>Charmander</td>\n",
       "      <td>Fire</td>\n",
       "      <td>NaN</td>\n",
       "      <td>309</td>\n",
       "      <td>39</td>\n",
       "      <td>52</td>\n",
       "      <td>43</td>\n",
       "      <td>60</td>\n",
       "      <td>50</td>\n",
       "      <td>65</td>\n",
       "      <td>1</td>\n",
       "      <td>False</td>\n",
       "    </tr>\n",
       "  </tbody>\n",
       "</table>\n",
       "</div>"
      ],
      "text/plain": [
       "   #                   Name Type 1  Type 2  Total  HP  Attack  Defense  \\\n",
       "0  1              Bulbasaur  Grass  Poison    318  45      49       49   \n",
       "1  2                Ivysaur  Grass  Poison    405  60      62       63   \n",
       "2  3               Venusaur  Grass  Poison    525  80      82       83   \n",
       "3  3  VenusaurMega Venusaur  Grass  Poison    625  80     100      123   \n",
       "4  4             Charmander   Fire     NaN    309  39      52       43   \n",
       "\n",
       "   Sp. Atk  Sp. Def  Speed  Generation  Legendary  \n",
       "0       65       65     45           1      False  \n",
       "1       80       80     60           1      False  \n",
       "2      100      100     80           1      False  \n",
       "3      122      120     80           1      False  \n",
       "4       60       50     65           1      False  "
      ]
     },
     "execution_count": 4,
     "metadata": {},
     "output_type": "execute_result"
    }
   ],
   "source": [
    "pk.head()"
   ]
  },
  {
   "cell_type": "code",
   "execution_count": 5,
   "id": "8aafcd18",
   "metadata": {},
   "outputs": [
    {
     "data": {
      "text/html": [
       "<div>\n",
       "<style scoped>\n",
       "    .dataframe tbody tr th:only-of-type {\n",
       "        vertical-align: middle;\n",
       "    }\n",
       "\n",
       "    .dataframe tbody tr th {\n",
       "        vertical-align: top;\n",
       "    }\n",
       "\n",
       "    .dataframe thead th {\n",
       "        text-align: right;\n",
       "    }\n",
       "</style>\n",
       "<table border=\"1\" class=\"dataframe\">\n",
       "  <thead>\n",
       "    <tr style=\"text-align: right;\">\n",
       "      <th></th>\n",
       "      <th>#</th>\n",
       "      <th>Name</th>\n",
       "      <th>Type 1</th>\n",
       "      <th>Type 2</th>\n",
       "      <th>Total</th>\n",
       "      <th>HP</th>\n",
       "      <th>Attack</th>\n",
       "      <th>Defense</th>\n",
       "      <th>Sp. Atk</th>\n",
       "      <th>Sp. Def</th>\n",
       "      <th>Speed</th>\n",
       "      <th>Generation</th>\n",
       "      <th>Legendary</th>\n",
       "    </tr>\n",
       "  </thead>\n",
       "  <tbody>\n",
       "    <tr>\n",
       "      <th>795</th>\n",
       "      <td>719</td>\n",
       "      <td>Diancie</td>\n",
       "      <td>Rock</td>\n",
       "      <td>Fairy</td>\n",
       "      <td>600</td>\n",
       "      <td>50</td>\n",
       "      <td>100</td>\n",
       "      <td>150</td>\n",
       "      <td>100</td>\n",
       "      <td>150</td>\n",
       "      <td>50</td>\n",
       "      <td>6</td>\n",
       "      <td>True</td>\n",
       "    </tr>\n",
       "    <tr>\n",
       "      <th>796</th>\n",
       "      <td>719</td>\n",
       "      <td>DiancieMega Diancie</td>\n",
       "      <td>Rock</td>\n",
       "      <td>Fairy</td>\n",
       "      <td>700</td>\n",
       "      <td>50</td>\n",
       "      <td>160</td>\n",
       "      <td>110</td>\n",
       "      <td>160</td>\n",
       "      <td>110</td>\n",
       "      <td>110</td>\n",
       "      <td>6</td>\n",
       "      <td>True</td>\n",
       "    </tr>\n",
       "    <tr>\n",
       "      <th>797</th>\n",
       "      <td>720</td>\n",
       "      <td>HoopaHoopa Confined</td>\n",
       "      <td>Psychic</td>\n",
       "      <td>Ghost</td>\n",
       "      <td>600</td>\n",
       "      <td>80</td>\n",
       "      <td>110</td>\n",
       "      <td>60</td>\n",
       "      <td>150</td>\n",
       "      <td>130</td>\n",
       "      <td>70</td>\n",
       "      <td>6</td>\n",
       "      <td>True</td>\n",
       "    </tr>\n",
       "    <tr>\n",
       "      <th>798</th>\n",
       "      <td>720</td>\n",
       "      <td>HoopaHoopa Unbound</td>\n",
       "      <td>Psychic</td>\n",
       "      <td>Dark</td>\n",
       "      <td>680</td>\n",
       "      <td>80</td>\n",
       "      <td>160</td>\n",
       "      <td>60</td>\n",
       "      <td>170</td>\n",
       "      <td>130</td>\n",
       "      <td>80</td>\n",
       "      <td>6</td>\n",
       "      <td>True</td>\n",
       "    </tr>\n",
       "    <tr>\n",
       "      <th>799</th>\n",
       "      <td>721</td>\n",
       "      <td>Volcanion</td>\n",
       "      <td>Fire</td>\n",
       "      <td>Water</td>\n",
       "      <td>600</td>\n",
       "      <td>80</td>\n",
       "      <td>110</td>\n",
       "      <td>120</td>\n",
       "      <td>130</td>\n",
       "      <td>90</td>\n",
       "      <td>70</td>\n",
       "      <td>6</td>\n",
       "      <td>True</td>\n",
       "    </tr>\n",
       "  </tbody>\n",
       "</table>\n",
       "</div>"
      ],
      "text/plain": [
       "       #                 Name   Type 1 Type 2  Total  HP  Attack  Defense  \\\n",
       "795  719              Diancie     Rock  Fairy    600  50     100      150   \n",
       "796  719  DiancieMega Diancie     Rock  Fairy    700  50     160      110   \n",
       "797  720  HoopaHoopa Confined  Psychic  Ghost    600  80     110       60   \n",
       "798  720   HoopaHoopa Unbound  Psychic   Dark    680  80     160       60   \n",
       "799  721            Volcanion     Fire  Water    600  80     110      120   \n",
       "\n",
       "     Sp. Atk  Sp. Def  Speed  Generation  Legendary  \n",
       "795      100      150     50           6       True  \n",
       "796      160      110    110           6       True  \n",
       "797      150      130     70           6       True  \n",
       "798      170      130     80           6       True  \n",
       "799      130       90     70           6       True  "
      ]
     },
     "execution_count": 5,
     "metadata": {},
     "output_type": "execute_result"
    }
   ],
   "source": [
    "pk.tail()"
   ]
  },
  {
   "cell_type": "code",
   "execution_count": 6,
   "id": "9cf8d218",
   "metadata": {},
   "outputs": [
    {
     "data": {
      "text/plain": [
       "(800, 13)"
      ]
     },
     "execution_count": 6,
     "metadata": {},
     "output_type": "execute_result"
    }
   ],
   "source": [
    "pk.shape"
   ]
  },
  {
   "cell_type": "code",
   "execution_count": 7,
   "id": "afe4cd2d",
   "metadata": {},
   "outputs": [
    {
     "data": {
      "text/plain": [
       "Index(['#', 'Name', 'Type 1', 'Type 2', 'Total', 'HP', 'Attack', 'Defense',\n",
       "       'Sp. Atk', 'Sp. Def', 'Speed', 'Generation', 'Legendary'],\n",
       "      dtype='object')"
      ]
     },
     "execution_count": 7,
     "metadata": {},
     "output_type": "execute_result"
    }
   ],
   "source": [
    "pk.columns"
   ]
  },
  {
   "cell_type": "code",
   "execution_count": 8,
   "id": "04f530b5",
   "metadata": {},
   "outputs": [
    {
     "data": {
      "text/plain": [
       "#             721\n",
       "Name          800\n",
       "Type 1         18\n",
       "Type 2         18\n",
       "Total         200\n",
       "HP             94\n",
       "Attack        111\n",
       "Defense       103\n",
       "Sp. Atk       105\n",
       "Sp. Def        92\n",
       "Speed         108\n",
       "Generation      6\n",
       "Legendary       2\n",
       "dtype: int64"
      ]
     },
     "execution_count": 8,
     "metadata": {},
     "output_type": "execute_result"
    }
   ],
   "source": [
    "pk.nunique()"
   ]
  },
  {
   "cell_type": "markdown",
   "id": "c7d1ffe0",
   "metadata": {},
   "source": [
    "### Hence, all the analysis will be done with the help of type 1, generation,and legendary."
   ]
  },
  {
   "cell_type": "code",
   "execution_count": 9,
   "id": "9c16076c",
   "metadata": {},
   "outputs": [
    {
     "data": {
      "text/plain": [
       "array(['Grass', 'Fire', 'Water', 'Bug', 'Normal', 'Poison', 'Electric',\n",
       "       'Ground', 'Fairy', 'Fighting', 'Psychic', 'Rock', 'Ghost', 'Ice',\n",
       "       'Dragon', 'Dark', 'Steel', 'Flying'], dtype=object)"
      ]
     },
     "execution_count": 9,
     "metadata": {},
     "output_type": "execute_result"
    }
   ],
   "source": [
    "pk['Type 1'].unique()"
   ]
  },
  {
   "cell_type": "code",
   "execution_count": 10,
   "id": "c8fd7243",
   "metadata": {},
   "outputs": [
    {
     "data": {
      "text/plain": [
       "Water       112\n",
       "Normal       98\n",
       "Grass        70\n",
       "Bug          69\n",
       "Psychic      57\n",
       "Fire         52\n",
       "Rock         44\n",
       "Electric     44\n",
       "Dragon       32\n",
       "Ghost        32\n",
       "Ground       32\n",
       "Dark         31\n",
       "Poison       28\n",
       "Fighting     27\n",
       "Steel        27\n",
       "Ice          24\n",
       "Fairy        17\n",
       "Flying        4\n",
       "Name: Type 1, dtype: int64"
      ]
     },
     "execution_count": 10,
     "metadata": {},
     "output_type": "execute_result"
    }
   ],
   "source": [
    "pk['Type 1'].value_counts()"
   ]
  },
  {
   "cell_type": "markdown",
   "id": "62393cff",
   "metadata": {},
   "source": [
    "### In 'Type 1' \n",
    "### Highest count is of WATER TYPE i.e. 112.\n",
    "### Lowest count is of FLYING TYPE i.e 4."
   ]
  },
  {
   "cell_type": "code",
   "execution_count": 11,
   "id": "82090267",
   "metadata": {},
   "outputs": [
    {
     "data": {
      "text/plain": [
       "array(['Poison', nan, 'Flying', 'Dragon', 'Ground', 'Fairy', 'Grass',\n",
       "       'Fighting', 'Psychic', 'Steel', 'Ice', 'Rock', 'Dark', 'Water',\n",
       "       'Electric', 'Fire', 'Ghost', 'Bug', 'Normal'], dtype=object)"
      ]
     },
     "execution_count": 11,
     "metadata": {},
     "output_type": "execute_result"
    }
   ],
   "source": [
    "pk['Type 2'].unique()"
   ]
  },
  {
   "cell_type": "markdown",
   "id": "90b419f1",
   "metadata": {},
   "source": [
    "### In \"type 2\" \n",
    "### nan value is present. Hence, filling this nan with none\n"
   ]
  },
  {
   "cell_type": "code",
   "execution_count": 12,
   "id": "3e685e06",
   "metadata": {},
   "outputs": [],
   "source": [
    "pk.fillna('none',inplace=True)"
   ]
  },
  {
   "cell_type": "code",
   "execution_count": 13,
   "id": "6176ea72",
   "metadata": {},
   "outputs": [
    {
     "data": {
      "text/plain": [
       "none        386\n",
       "Flying       97\n",
       "Ground       35\n",
       "Poison       34\n",
       "Psychic      33\n",
       "Fighting     26\n",
       "Grass        25\n",
       "Fairy        23\n",
       "Steel        22\n",
       "Dark         20\n",
       "Dragon       18\n",
       "Ghost        14\n",
       "Ice          14\n",
       "Water        14\n",
       "Rock         14\n",
       "Fire         12\n",
       "Electric      6\n",
       "Normal        4\n",
       "Bug           3\n",
       "Name: Type 2, dtype: int64"
      ]
     },
     "execution_count": 13,
     "metadata": {},
     "output_type": "execute_result"
    }
   ],
   "source": [
    "pk['Type 2'].value_counts()"
   ]
  },
  {
   "cell_type": "code",
   "execution_count": 14,
   "id": "d9438133",
   "metadata": {},
   "outputs": [
    {
     "data": {
      "text/plain": [
       "array(['Poison', 'none', 'Flying', 'Dragon', 'Ground', 'Fairy', 'Grass',\n",
       "       'Fighting', 'Psychic', 'Steel', 'Ice', 'Rock', 'Dark', 'Water',\n",
       "       'Electric', 'Fire', 'Ghost', 'Bug', 'Normal'], dtype=object)"
      ]
     },
     "execution_count": 14,
     "metadata": {},
     "output_type": "execute_result"
    }
   ],
   "source": [
    "pk['Type 2'].unique()"
   ]
  },
  {
   "cell_type": "code",
   "execution_count": 15,
   "id": "18a6770c",
   "metadata": {},
   "outputs": [
    {
     "data": {
      "text/plain": [
       "#             0\n",
       "Name          0\n",
       "Type 1        0\n",
       "Type 2        0\n",
       "Total         0\n",
       "HP            0\n",
       "Attack        0\n",
       "Defense       0\n",
       "Sp. Atk       0\n",
       "Sp. Def       0\n",
       "Speed         0\n",
       "Generation    0\n",
       "Legendary     0\n",
       "dtype: int64"
      ]
     },
     "execution_count": 15,
     "metadata": {},
     "output_type": "execute_result"
    }
   ],
   "source": [
    "pk.isnull().sum()"
   ]
  },
  {
   "cell_type": "markdown",
   "id": "14c0ea0c",
   "metadata": {},
   "source": [
    "### no nan value present"
   ]
  },
  {
   "cell_type": "code",
   "execution_count": 16,
   "id": "8a429bd2",
   "metadata": {
    "scrolled": false
   },
   "outputs": [
    {
     "name": "stdout",
     "output_type": "stream",
     "text": [
      "<class 'pandas.core.frame.DataFrame'>\n",
      "RangeIndex: 800 entries, 0 to 799\n",
      "Data columns (total 13 columns):\n",
      " #   Column      Non-Null Count  Dtype \n",
      "---  ------      --------------  ----- \n",
      " 0   #           800 non-null    int64 \n",
      " 1   Name        800 non-null    object\n",
      " 2   Type 1      800 non-null    object\n",
      " 3   Type 2      800 non-null    object\n",
      " 4   Total       800 non-null    int64 \n",
      " 5   HP          800 non-null    int64 \n",
      " 6   Attack      800 non-null    int64 \n",
      " 7   Defense     800 non-null    int64 \n",
      " 8   Sp. Atk     800 non-null    int64 \n",
      " 9   Sp. Def     800 non-null    int64 \n",
      " 10  Speed       800 non-null    int64 \n",
      " 11  Generation  800 non-null    int64 \n",
      " 12  Legendary   800 non-null    bool  \n",
      "dtypes: bool(1), int64(9), object(3)\n",
      "memory usage: 75.9+ KB\n"
     ]
    }
   ],
   "source": [
    "pk.info()"
   ]
  },
  {
   "cell_type": "markdown",
   "id": "a32f2852",
   "metadata": {},
   "source": [
    "### In the give data, \n",
    "### 3 data types are there: (a.) 9 integer  (b.) 3 strings   (c.) 1 boolean  \n",
    "### There are 800 entries(row) and 13 columns.\n"
   ]
  },
  {
   "cell_type": "code",
   "execution_count": 17,
   "id": "825f20cb",
   "metadata": {},
   "outputs": [
    {
     "data": {
      "text/html": [
       "<div>\n",
       "<style scoped>\n",
       "    .dataframe tbody tr th:only-of-type {\n",
       "        vertical-align: middle;\n",
       "    }\n",
       "\n",
       "    .dataframe tbody tr th {\n",
       "        vertical-align: top;\n",
       "    }\n",
       "\n",
       "    .dataframe thead th {\n",
       "        text-align: right;\n",
       "    }\n",
       "</style>\n",
       "<table border=\"1\" class=\"dataframe\">\n",
       "  <thead>\n",
       "    <tr style=\"text-align: right;\">\n",
       "      <th></th>\n",
       "      <th>#</th>\n",
       "      <th>Total</th>\n",
       "      <th>HP</th>\n",
       "      <th>Attack</th>\n",
       "      <th>Defense</th>\n",
       "      <th>Sp. Atk</th>\n",
       "      <th>Sp. Def</th>\n",
       "      <th>Speed</th>\n",
       "      <th>Generation</th>\n",
       "    </tr>\n",
       "  </thead>\n",
       "  <tbody>\n",
       "    <tr>\n",
       "      <th>count</th>\n",
       "      <td>800.000000</td>\n",
       "      <td>800.00000</td>\n",
       "      <td>800.000000</td>\n",
       "      <td>800.000000</td>\n",
       "      <td>800.000000</td>\n",
       "      <td>800.000000</td>\n",
       "      <td>800.000000</td>\n",
       "      <td>800.000000</td>\n",
       "      <td>800.00000</td>\n",
       "    </tr>\n",
       "    <tr>\n",
       "      <th>mean</th>\n",
       "      <td>362.813750</td>\n",
       "      <td>435.10250</td>\n",
       "      <td>69.258750</td>\n",
       "      <td>79.001250</td>\n",
       "      <td>73.842500</td>\n",
       "      <td>72.820000</td>\n",
       "      <td>71.902500</td>\n",
       "      <td>68.277500</td>\n",
       "      <td>3.32375</td>\n",
       "    </tr>\n",
       "    <tr>\n",
       "      <th>std</th>\n",
       "      <td>208.343798</td>\n",
       "      <td>119.96304</td>\n",
       "      <td>25.534669</td>\n",
       "      <td>32.457366</td>\n",
       "      <td>31.183501</td>\n",
       "      <td>32.722294</td>\n",
       "      <td>27.828916</td>\n",
       "      <td>29.060474</td>\n",
       "      <td>1.66129</td>\n",
       "    </tr>\n",
       "    <tr>\n",
       "      <th>min</th>\n",
       "      <td>1.000000</td>\n",
       "      <td>180.00000</td>\n",
       "      <td>1.000000</td>\n",
       "      <td>5.000000</td>\n",
       "      <td>5.000000</td>\n",
       "      <td>10.000000</td>\n",
       "      <td>20.000000</td>\n",
       "      <td>5.000000</td>\n",
       "      <td>1.00000</td>\n",
       "    </tr>\n",
       "    <tr>\n",
       "      <th>25%</th>\n",
       "      <td>184.750000</td>\n",
       "      <td>330.00000</td>\n",
       "      <td>50.000000</td>\n",
       "      <td>55.000000</td>\n",
       "      <td>50.000000</td>\n",
       "      <td>49.750000</td>\n",
       "      <td>50.000000</td>\n",
       "      <td>45.000000</td>\n",
       "      <td>2.00000</td>\n",
       "    </tr>\n",
       "    <tr>\n",
       "      <th>50%</th>\n",
       "      <td>364.500000</td>\n",
       "      <td>450.00000</td>\n",
       "      <td>65.000000</td>\n",
       "      <td>75.000000</td>\n",
       "      <td>70.000000</td>\n",
       "      <td>65.000000</td>\n",
       "      <td>70.000000</td>\n",
       "      <td>65.000000</td>\n",
       "      <td>3.00000</td>\n",
       "    </tr>\n",
       "    <tr>\n",
       "      <th>75%</th>\n",
       "      <td>539.250000</td>\n",
       "      <td>515.00000</td>\n",
       "      <td>80.000000</td>\n",
       "      <td>100.000000</td>\n",
       "      <td>90.000000</td>\n",
       "      <td>95.000000</td>\n",
       "      <td>90.000000</td>\n",
       "      <td>90.000000</td>\n",
       "      <td>5.00000</td>\n",
       "    </tr>\n",
       "    <tr>\n",
       "      <th>max</th>\n",
       "      <td>721.000000</td>\n",
       "      <td>780.00000</td>\n",
       "      <td>255.000000</td>\n",
       "      <td>190.000000</td>\n",
       "      <td>230.000000</td>\n",
       "      <td>194.000000</td>\n",
       "      <td>230.000000</td>\n",
       "      <td>180.000000</td>\n",
       "      <td>6.00000</td>\n",
       "    </tr>\n",
       "  </tbody>\n",
       "</table>\n",
       "</div>"
      ],
      "text/plain": [
       "                #      Total          HP      Attack     Defense     Sp. Atk  \\\n",
       "count  800.000000  800.00000  800.000000  800.000000  800.000000  800.000000   \n",
       "mean   362.813750  435.10250   69.258750   79.001250   73.842500   72.820000   \n",
       "std    208.343798  119.96304   25.534669   32.457366   31.183501   32.722294   \n",
       "min      1.000000  180.00000    1.000000    5.000000    5.000000   10.000000   \n",
       "25%    184.750000  330.00000   50.000000   55.000000   50.000000   49.750000   \n",
       "50%    364.500000  450.00000   65.000000   75.000000   70.000000   65.000000   \n",
       "75%    539.250000  515.00000   80.000000  100.000000   90.000000   95.000000   \n",
       "max    721.000000  780.00000  255.000000  190.000000  230.000000  194.000000   \n",
       "\n",
       "          Sp. Def       Speed  Generation  \n",
       "count  800.000000  800.000000   800.00000  \n",
       "mean    71.902500   68.277500     3.32375  \n",
       "std     27.828916   29.060474     1.66129  \n",
       "min     20.000000    5.000000     1.00000  \n",
       "25%     50.000000   45.000000     2.00000  \n",
       "50%     70.000000   65.000000     3.00000  \n",
       "75%     90.000000   90.000000     5.00000  \n",
       "max    230.000000  180.000000     6.00000  "
      ]
     },
     "execution_count": 17,
     "metadata": {},
     "output_type": "execute_result"
    }
   ],
   "source": [
    "des=pk.describe()\n",
    "des"
   ]
  },
  {
   "cell_type": "code",
   "execution_count": 18,
   "id": "146ae0e9",
   "metadata": {},
   "outputs": [
    {
     "data": {
      "text/plain": [
       "False    735\n",
       "True      65\n",
       "Name: Legendary, dtype: int64"
      ]
     },
     "execution_count": 18,
     "metadata": {},
     "output_type": "execute_result"
    }
   ],
   "source": [
    "pk['Legendary'].value_counts()"
   ]
  },
  {
   "cell_type": "markdown",
   "id": "fd5eb348",
   "metadata": {},
   "source": [
    "### There are 65 legendary Pokemon in the given data."
   ]
  },
  {
   "cell_type": "code",
   "execution_count": 19,
   "id": "35c28a14",
   "metadata": {},
   "outputs": [
    {
     "data": {
      "text/plain": [
       "Text(0.5, 1.0, 'Legendary pokemons')"
      ]
     },
     "execution_count": 19,
     "metadata": {},
     "output_type": "execute_result"
    },
    {
     "data": {
      "image/png": "[encoded data removed]",
      "text/plain": [
       "<Figure size 432x288 with 1 Axes>"
      ]
     },
     "metadata": {},
     "output_type": "display_data"
    }
   ],
   "source": [
    "Legendary=pk['Legendary'].value_counts()\n",
    "label=[False,True]\n",
    "plt.pie(Legendary,\n",
    "        labels=label,\n",
    "       startangle = 0,\n",
    "       shadow= True,\n",
    "        autopct='%1.0f%%')\n",
    "\n",
    "\n",
    "plt.title('Legendary pokemons')"
   ]
  },
  {
   "cell_type": "code",
   "execution_count": 20,
   "id": "e71a025b",
   "metadata": {},
   "outputs": [
    {
     "data": {
      "text/plain": [
       "1    166\n",
       "5    165\n",
       "3    160\n",
       "4    121\n",
       "2    106\n",
       "6     82\n",
       "Name: Generation, dtype: int64"
      ]
     },
     "execution_count": 20,
     "metadata": {},
     "output_type": "execute_result"
    }
   ],
   "source": [
    "Generation=pk['Generation'].value_counts()\n",
    "Generation"
   ]
  },
  {
   "cell_type": "code",
   "execution_count": 21,
   "id": "f98958db",
   "metadata": {},
   "outputs": [
    {
     "data": {
      "text/plain": [
       "Text(0.5, 1.0, 'Generation wise distribution of pokemons')"
      ]
     },
     "execution_count": 21,
     "metadata": {},
     "output_type": "execute_result"
    },
    {
     "data": {
      "image/png": "[encoded data removed]",
      "text/plain": [
       "<Figure size 432x288 with 1 Axes>"
      ]
     },
     "metadata": {},
     "output_type": "display_data"
    }
   ],
   "source": [
    "Generation=pk['Generation'].value_counts()\n",
    "label=[1,5,3,4,2,6]\n",
    "plt.pie(Generation,\n",
    "        labels=label,\n",
    "       startangle = 0,\n",
    "       shadow= True,\n",
    "        autopct='%1.0f%%')\n",
    "\n",
    "\n",
    "plt.title('Generation wise distribution of pokemons')"
   ]
  },
  {
   "cell_type": "markdown",
   "id": "3bb9a359",
   "metadata": {},
   "source": [
    "### Generation 1 has highest Pokemon in number while Generation 6 has lowest Pokemon in number."
   ]
  },
  {
   "cell_type": "code",
   "execution_count": 22,
   "id": "dabdf598",
   "metadata": {},
   "outputs": [
    {
     "data": {
      "text/plain": [
       "Water       112\n",
       "Normal       98\n",
       "Grass        70\n",
       "Bug          69\n",
       "Psychic      57\n",
       "Fire         52\n",
       "Rock         44\n",
       "Electric     44\n",
       "Dragon       32\n",
       "Ghost        32\n",
       "Ground       32\n",
       "Dark         31\n",
       "Poison       28\n",
       "Fighting     27\n",
       "Steel        27\n",
       "Ice          24\n",
       "Fairy        17\n",
       "Flying        4\n",
       "Name: Type 1, dtype: int64"
      ]
     },
     "execution_count": 22,
     "metadata": {},
     "output_type": "execute_result"
    }
   ],
   "source": [
    "type1=pk['Type 1'].value_counts()\n",
    "type1"
   ]
  },
  {
   "cell_type": "code",
   "execution_count": 23,
   "id": "4e3da56e",
   "metadata": {},
   "outputs": [
    {
     "name": "stderr",
     "output_type": "stream",
     "text": [
      "C:\\Users\\aditi\\anaconda_7june\\lib\\site-packages\\seaborn\\_decorators.py:36: FutureWarning: Pass the following variable as a keyword arg: x. From version 0.12, the only valid positional argument will be `data`, and passing other arguments without an explicit keyword will result in an error or misinterpretation.\n",
      "  warnings.warn(\n"
     ]
    },
    {
     "data": {
      "text/plain": [
       "Text(0, 0.5, 'TOTAL')"
      ]
     },
     "execution_count": 23,
     "metadata": {},
     "output_type": "execute_result"
    },
    {
     "data": {
      "image/png": "[encoded data removed]",
      "text/plain": [
       "<Figure size 1080x720 with 1 Axes>"
      ]
     },
     "metadata": {
      "needs_background": "light"
     },
     "output_type": "display_data"
    }
   ],
   "source": [
    "plt.figure(figsize=(15,10))\n",
    "sys.countplot(pk['Type 1'])\n",
    "plt.title('TYPE 1 DISTRIBUTION')\n",
    "plt.xlabel('POKEMON')\n",
    "plt.ylabel('TOTAL')"
   ]
  },
  {
   "cell_type": "markdown",
   "id": "7d9dd939",
   "metadata": {},
   "source": [
    "### IN TYPE 1:\n",
    "### Water type Pokemon is highest number of pokemon in total.\n",
    "### Flying type Pokemon is less in number of pokemons in total.\n",
    "### Rock, Electric Pokemon has same value count.\n",
    "### Ghost, Dragon, Ground has same value count.\n",
    "### Fighting, Steel has same value count.\n"
   ]
  },
  {
   "cell_type": "code",
   "execution_count": 24,
   "id": "29cd8334",
   "metadata": {},
   "outputs": [
    {
     "data": {
      "text/plain": [
       "none        386\n",
       "Flying       97\n",
       "Ground       35\n",
       "Poison       34\n",
       "Psychic      33\n",
       "Fighting     26\n",
       "Grass        25\n",
       "Fairy        23\n",
       "Steel        22\n",
       "Dark         20\n",
       "Dragon       18\n",
       "Ghost        14\n",
       "Ice          14\n",
       "Water        14\n",
       "Rock         14\n",
       "Fire         12\n",
       "Electric      6\n",
       "Normal        4\n",
       "Bug           3\n",
       "Name: Type 2, dtype: int64"
      ]
     },
     "execution_count": 24,
     "metadata": {},
     "output_type": "execute_result"
    }
   ],
   "source": [
    "pk['Type 2'].value_counts()"
   ]
  },
  {
   "cell_type": "code",
   "execution_count": 25,
   "id": "c301c248",
   "metadata": {},
   "outputs": [
    {
     "name": "stderr",
     "output_type": "stream",
     "text": [
      "C:\\Users\\aditi\\anaconda_7june\\lib\\site-packages\\seaborn\\_decorators.py:36: FutureWarning: Pass the following variable as a keyword arg: x. From version 0.12, the only valid positional argument will be `data`, and passing other arguments without an explicit keyword will result in an error or misinterpretation.\n",
      "  warnings.warn(\n"
     ]
    },
    {
     "data": {
      "image/png": "[encoded data removed]",
      "text/plain": [
       "<Figure size 1080x720 with 1 Axes>"
      ]
     },
     "metadata": {
      "needs_background": "light"
     },
     "output_type": "display_data"
    }
   ],
   "source": [
    "plt.figure(figsize=(15,10))\n",
    "sys.countplot(pk['Type 1']);"
   ]
  },
  {
   "cell_type": "markdown",
   "id": "a4016d27",
   "metadata": {},
   "source": [
    "###  In type 2\n",
    "### Excluding, the none value,\n",
    "### Flying Pokemon has highest value count.\n",
    "### Bug pokemon has lowest value count.\n",
    "### water, ice, ghost, rock pokemon has same value count.\n",
    "\n"
   ]
  },
  {
   "cell_type": "code",
   "execution_count": 26,
   "id": "0cda1993",
   "metadata": {},
   "outputs": [
    {
     "data": {
      "text/html": [
       "<div>\n",
       "<style scoped>\n",
       "    .dataframe tbody tr th:only-of-type {\n",
       "        vertical-align: middle;\n",
       "    }\n",
       "\n",
       "    .dataframe tbody tr th {\n",
       "        vertical-align: top;\n",
       "    }\n",
       "\n",
       "    .dataframe thead th {\n",
       "        text-align: right;\n",
       "    }\n",
       "</style>\n",
       "<table border=\"1\" class=\"dataframe\">\n",
       "  <thead>\n",
       "    <tr style=\"text-align: right;\">\n",
       "      <th></th>\n",
       "      <th></th>\n",
       "      <th>#</th>\n",
       "      <th>Name</th>\n",
       "      <th>Type 1</th>\n",
       "      <th>Type 2</th>\n",
       "      <th>Total</th>\n",
       "      <th>HP</th>\n",
       "      <th>Attack</th>\n",
       "      <th>Defense</th>\n",
       "      <th>Sp. Atk</th>\n",
       "      <th>Sp. Def</th>\n",
       "      <th>Speed</th>\n",
       "    </tr>\n",
       "    <tr>\n",
       "      <th>Generation</th>\n",
       "      <th>Legendary</th>\n",
       "      <th></th>\n",
       "      <th></th>\n",
       "      <th></th>\n",
       "      <th></th>\n",
       "      <th></th>\n",
       "      <th></th>\n",
       "      <th></th>\n",
       "      <th></th>\n",
       "      <th></th>\n",
       "      <th></th>\n",
       "      <th></th>\n",
       "    </tr>\n",
       "  </thead>\n",
       "  <tbody>\n",
       "    <tr>\n",
       "      <th rowspan=\"2\" valign=\"top\">1</th>\n",
       "      <th>False</th>\n",
       "      <td>160</td>\n",
       "      <td>160</td>\n",
       "      <td>160</td>\n",
       "      <td>160</td>\n",
       "      <td>160</td>\n",
       "      <td>160</td>\n",
       "      <td>160</td>\n",
       "      <td>160</td>\n",
       "      <td>160</td>\n",
       "      <td>160</td>\n",
       "      <td>160</td>\n",
       "    </tr>\n",
       "    <tr>\n",
       "      <th>True</th>\n",
       "      <td>6</td>\n",
       "      <td>6</td>\n",
       "      <td>6</td>\n",
       "      <td>6</td>\n",
       "      <td>6</td>\n",
       "      <td>6</td>\n",
       "      <td>6</td>\n",
       "      <td>6</td>\n",
       "      <td>6</td>\n",
       "      <td>6</td>\n",
       "      <td>6</td>\n",
       "    </tr>\n",
       "    <tr>\n",
       "      <th rowspan=\"2\" valign=\"top\">2</th>\n",
       "      <th>False</th>\n",
       "      <td>101</td>\n",
       "      <td>101</td>\n",
       "      <td>101</td>\n",
       "      <td>101</td>\n",
       "      <td>101</td>\n",
       "      <td>101</td>\n",
       "      <td>101</td>\n",
       "      <td>101</td>\n",
       "      <td>101</td>\n",
       "      <td>101</td>\n",
       "      <td>101</td>\n",
       "    </tr>\n",
       "    <tr>\n",
       "      <th>True</th>\n",
       "      <td>5</td>\n",
       "      <td>5</td>\n",
       "      <td>5</td>\n",
       "      <td>5</td>\n",
       "      <td>5</td>\n",
       "      <td>5</td>\n",
       "      <td>5</td>\n",
       "      <td>5</td>\n",
       "      <td>5</td>\n",
       "      <td>5</td>\n",
       "      <td>5</td>\n",
       "    </tr>\n",
       "    <tr>\n",
       "      <th rowspan=\"2\" valign=\"top\">3</th>\n",
       "      <th>False</th>\n",
       "      <td>142</td>\n",
       "      <td>142</td>\n",
       "      <td>142</td>\n",
       "      <td>142</td>\n",
       "      <td>142</td>\n",
       "      <td>142</td>\n",
       "      <td>142</td>\n",
       "      <td>142</td>\n",
       "      <td>142</td>\n",
       "      <td>142</td>\n",
       "      <td>142</td>\n",
       "    </tr>\n",
       "    <tr>\n",
       "      <th>True</th>\n",
       "      <td>18</td>\n",
       "      <td>18</td>\n",
       "      <td>18</td>\n",
       "      <td>18</td>\n",
       "      <td>18</td>\n",
       "      <td>18</td>\n",
       "      <td>18</td>\n",
       "      <td>18</td>\n",
       "      <td>18</td>\n",
       "      <td>18</td>\n",
       "      <td>18</td>\n",
       "    </tr>\n",
       "    <tr>\n",
       "      <th rowspan=\"2\" valign=\"top\">4</th>\n",
       "      <th>False</th>\n",
       "      <td>108</td>\n",
       "      <td>108</td>\n",
       "      <td>108</td>\n",
       "      <td>108</td>\n",
       "      <td>108</td>\n",
       "      <td>108</td>\n",
       "      <td>108</td>\n",
       "      <td>108</td>\n",
       "      <td>108</td>\n",
       "      <td>108</td>\n",
       "      <td>108</td>\n",
       "    </tr>\n",
       "    <tr>\n",
       "      <th>True</th>\n",
       "      <td>13</td>\n",
       "      <td>13</td>\n",
       "      <td>13</td>\n",
       "      <td>13</td>\n",
       "      <td>13</td>\n",
       "      <td>13</td>\n",
       "      <td>13</td>\n",
       "      <td>13</td>\n",
       "      <td>13</td>\n",
       "      <td>13</td>\n",
       "      <td>13</td>\n",
       "    </tr>\n",
       "    <tr>\n",
       "      <th rowspan=\"2\" valign=\"top\">5</th>\n",
       "      <th>False</th>\n",
       "      <td>150</td>\n",
       "      <td>150</td>\n",
       "      <td>150</td>\n",
       "      <td>150</td>\n",
       "      <td>150</td>\n",
       "      <td>150</td>\n",
       "      <td>150</td>\n",
       "      <td>150</td>\n",
       "      <td>150</td>\n",
       "      <td>150</td>\n",
       "      <td>150</td>\n",
       "    </tr>\n",
       "    <tr>\n",
       "      <th>True</th>\n",
       "      <td>15</td>\n",
       "      <td>15</td>\n",
       "      <td>15</td>\n",
       "      <td>15</td>\n",
       "      <td>15</td>\n",
       "      <td>15</td>\n",
       "      <td>15</td>\n",
       "      <td>15</td>\n",
       "      <td>15</td>\n",
       "      <td>15</td>\n",
       "      <td>15</td>\n",
       "    </tr>\n",
       "    <tr>\n",
       "      <th rowspan=\"2\" valign=\"top\">6</th>\n",
       "      <th>False</th>\n",
       "      <td>74</td>\n",
       "      <td>74</td>\n",
       "      <td>74</td>\n",
       "      <td>74</td>\n",
       "      <td>74</td>\n",
       "      <td>74</td>\n",
       "      <td>74</td>\n",
       "      <td>74</td>\n",
       "      <td>74</td>\n",
       "      <td>74</td>\n",
       "      <td>74</td>\n",
       "    </tr>\n",
       "    <tr>\n",
       "      <th>True</th>\n",
       "      <td>8</td>\n",
       "      <td>8</td>\n",
       "      <td>8</td>\n",
       "      <td>8</td>\n",
       "      <td>8</td>\n",
       "      <td>8</td>\n",
       "      <td>8</td>\n",
       "      <td>8</td>\n",
       "      <td>8</td>\n",
       "      <td>8</td>\n",
       "      <td>8</td>\n",
       "    </tr>\n",
       "  </tbody>\n",
       "</table>\n",
       "</div>"
      ],
      "text/plain": [
       "                        #  Name  Type 1  Type 2  Total   HP  Attack  Defense  \\\n",
       "Generation Legendary                                                           \n",
       "1          False      160   160     160     160    160  160     160      160   \n",
       "           True         6     6       6       6      6    6       6        6   \n",
       "2          False      101   101     101     101    101  101     101      101   \n",
       "           True         5     5       5       5      5    5       5        5   \n",
       "3          False      142   142     142     142    142  142     142      142   \n",
       "           True        18    18      18      18     18   18      18       18   \n",
       "4          False      108   108     108     108    108  108     108      108   \n",
       "           True        13    13      13      13     13   13      13       13   \n",
       "5          False      150   150     150     150    150  150     150      150   \n",
       "           True        15    15      15      15     15   15      15       15   \n",
       "6          False       74    74      74      74     74   74      74       74   \n",
       "           True         8     8       8       8      8    8       8        8   \n",
       "\n",
       "                      Sp. Atk  Sp. Def  Speed  \n",
       "Generation Legendary                           \n",
       "1          False          160      160    160  \n",
       "           True             6        6      6  \n",
       "2          False          101      101    101  \n",
       "           True             5        5      5  \n",
       "3          False          142      142    142  \n",
       "           True            18       18     18  \n",
       "4          False          108      108    108  \n",
       "           True            13       13     13  \n",
       "5          False          150      150    150  \n",
       "           True            15       15     15  \n",
       "6          False           74       74     74  \n",
       "           True             8        8      8  "
      ]
     },
     "execution_count": 26,
     "metadata": {},
     "output_type": "execute_result"
    }
   ],
   "source": [
    "pk.groupby(['Generation','Legendary']).count()"
   ]
  },
  {
   "cell_type": "code",
   "execution_count": 27,
   "id": "1bc67a3b",
   "metadata": {},
   "outputs": [
    {
     "data": {
      "image/png": "[encoded data removed]",
      "text/plain": [
       "<Figure size 540x360 with 1 Axes>"
      ]
     },
     "metadata": {
      "needs_background": "light"
     },
     "output_type": "display_data"
    }
   ],
   "source": [
    "bar1= sys.catplot(x='Generation',\n",
    "                  data=pk,\n",
    "                  kind='count',\n",
    "                  hue='Legendary',\n",
    "                  height=5,\n",
    "                  aspect=1.5,\n",
    "                  legend=False,).set_axis_labels('Generation')\n",
    "\n",
    "bar1.ax.legend(loc='upper center', bbox_to_anchor=(0.5, 1.1), shadow=True)\n",
    "plt.show()"
   ]
  },
  {
   "cell_type": "markdown",
   "id": "2721d83e",
   "metadata": {},
   "source": [
    "### Generation 3 has highest legendary pokemon.\n",
    "### Generation 2 has lowest legendary pokemon."
   ]
  },
  {
   "cell_type": "code",
   "execution_count": 28,
   "id": "8f9425d6",
   "metadata": {},
   "outputs": [
    {
     "data": {
      "text/html": [
       "<div>\n",
       "<style scoped>\n",
       "    .dataframe tbody tr th:only-of-type {\n",
       "        vertical-align: middle;\n",
       "    }\n",
       "\n",
       "    .dataframe tbody tr th {\n",
       "        vertical-align: top;\n",
       "    }\n",
       "\n",
       "    .dataframe thead th {\n",
       "        text-align: right;\n",
       "    }\n",
       "</style>\n",
       "<table border=\"1\" class=\"dataframe\">\n",
       "  <thead>\n",
       "    <tr style=\"text-align: right;\">\n",
       "      <th></th>\n",
       "      <th></th>\n",
       "      <th>#</th>\n",
       "      <th>Name</th>\n",
       "      <th>Type 2</th>\n",
       "      <th>Total</th>\n",
       "      <th>HP</th>\n",
       "      <th>Attack</th>\n",
       "      <th>Defense</th>\n",
       "      <th>Sp. Atk</th>\n",
       "      <th>Sp. Def</th>\n",
       "      <th>Speed</th>\n",
       "      <th>Generation</th>\n",
       "    </tr>\n",
       "    <tr>\n",
       "      <th>Type 1</th>\n",
       "      <th>Legendary</th>\n",
       "      <th></th>\n",
       "      <th></th>\n",
       "      <th></th>\n",
       "      <th></th>\n",
       "      <th></th>\n",
       "      <th></th>\n",
       "      <th></th>\n",
       "      <th></th>\n",
       "      <th></th>\n",
       "      <th></th>\n",
       "      <th></th>\n",
       "    </tr>\n",
       "  </thead>\n",
       "  <tbody>\n",
       "    <tr>\n",
       "      <th>Bug</th>\n",
       "      <th>False</th>\n",
       "      <td>69</td>\n",
       "      <td>69</td>\n",
       "      <td>69</td>\n",
       "      <td>69</td>\n",
       "      <td>69</td>\n",
       "      <td>69</td>\n",
       "      <td>69</td>\n",
       "      <td>69</td>\n",
       "      <td>69</td>\n",
       "      <td>69</td>\n",
       "      <td>69</td>\n",
       "    </tr>\n",
       "    <tr>\n",
       "      <th rowspan=\"2\" valign=\"top\">Dark</th>\n",
       "      <th>False</th>\n",
       "      <td>29</td>\n",
       "      <td>29</td>\n",
       "      <td>29</td>\n",
       "      <td>29</td>\n",
       "      <td>29</td>\n",
       "      <td>29</td>\n",
       "      <td>29</td>\n",
       "      <td>29</td>\n",
       "      <td>29</td>\n",
       "      <td>29</td>\n",
       "      <td>29</td>\n",
       "    </tr>\n",
       "    <tr>\n",
       "      <th>True</th>\n",
       "      <td>2</td>\n",
       "      <td>2</td>\n",
       "      <td>2</td>\n",
       "      <td>2</td>\n",
       "      <td>2</td>\n",
       "      <td>2</td>\n",
       "      <td>2</td>\n",
       "      <td>2</td>\n",
       "      <td>2</td>\n",
       "      <td>2</td>\n",
       "      <td>2</td>\n",
       "    </tr>\n",
       "    <tr>\n",
       "      <th rowspan=\"2\" valign=\"top\">Dragon</th>\n",
       "      <th>False</th>\n",
       "      <td>20</td>\n",
       "      <td>20</td>\n",
       "      <td>20</td>\n",
       "      <td>20</td>\n",
       "      <td>20</td>\n",
       "      <td>20</td>\n",
       "      <td>20</td>\n",
       "      <td>20</td>\n",
       "      <td>20</td>\n",
       "      <td>20</td>\n",
       "      <td>20</td>\n",
       "    </tr>\n",
       "    <tr>\n",
       "      <th>True</th>\n",
       "      <td>12</td>\n",
       "      <td>12</td>\n",
       "      <td>12</td>\n",
       "      <td>12</td>\n",
       "      <td>12</td>\n",
       "      <td>12</td>\n",
       "      <td>12</td>\n",
       "      <td>12</td>\n",
       "      <td>12</td>\n",
       "      <td>12</td>\n",
       "      <td>12</td>\n",
       "    </tr>\n",
       "    <tr>\n",
       "      <th rowspan=\"2\" valign=\"top\">Electric</th>\n",
       "      <th>False</th>\n",
       "      <td>40</td>\n",
       "      <td>40</td>\n",
       "      <td>40</td>\n",
       "      <td>40</td>\n",
       "      <td>40</td>\n",
       "      <td>40</td>\n",
       "      <td>40</td>\n",
       "      <td>40</td>\n",
       "      <td>40</td>\n",
       "      <td>40</td>\n",
       "      <td>40</td>\n",
       "    </tr>\n",
       "    <tr>\n",
       "      <th>True</th>\n",
       "      <td>4</td>\n",
       "      <td>4</td>\n",
       "      <td>4</td>\n",
       "      <td>4</td>\n",
       "      <td>4</td>\n",
       "      <td>4</td>\n",
       "      <td>4</td>\n",
       "      <td>4</td>\n",
       "      <td>4</td>\n",
       "      <td>4</td>\n",
       "      <td>4</td>\n",
       "    </tr>\n",
       "    <tr>\n",
       "      <th rowspan=\"2\" valign=\"top\">Fairy</th>\n",
       "      <th>False</th>\n",
       "      <td>16</td>\n",
       "      <td>16</td>\n",
       "      <td>16</td>\n",
       "      <td>16</td>\n",
       "      <td>16</td>\n",
       "      <td>16</td>\n",
       "      <td>16</td>\n",
       "      <td>16</td>\n",
       "      <td>16</td>\n",
       "      <td>16</td>\n",
       "      <td>16</td>\n",
       "    </tr>\n",
       "    <tr>\n",
       "      <th>True</th>\n",
       "      <td>1</td>\n",
       "      <td>1</td>\n",
       "      <td>1</td>\n",
       "      <td>1</td>\n",
       "      <td>1</td>\n",
       "      <td>1</td>\n",
       "      <td>1</td>\n",
       "      <td>1</td>\n",
       "      <td>1</td>\n",
       "      <td>1</td>\n",
       "      <td>1</td>\n",
       "    </tr>\n",
       "    <tr>\n",
       "      <th>Fighting</th>\n",
       "      <th>False</th>\n",
       "      <td>27</td>\n",
       "      <td>27</td>\n",
       "      <td>27</td>\n",
       "      <td>27</td>\n",
       "      <td>27</td>\n",
       "      <td>27</td>\n",
       "      <td>27</td>\n",
       "      <td>27</td>\n",
       "      <td>27</td>\n",
       "      <td>27</td>\n",
       "      <td>27</td>\n",
       "    </tr>\n",
       "    <tr>\n",
       "      <th rowspan=\"2\" valign=\"top\">Fire</th>\n",
       "      <th>False</th>\n",
       "      <td>47</td>\n",
       "      <td>47</td>\n",
       "      <td>47</td>\n",
       "      <td>47</td>\n",
       "      <td>47</td>\n",
       "      <td>47</td>\n",
       "      <td>47</td>\n",
       "      <td>47</td>\n",
       "      <td>47</td>\n",
       "      <td>47</td>\n",
       "      <td>47</td>\n",
       "    </tr>\n",
       "    <tr>\n",
       "      <th>True</th>\n",
       "      <td>5</td>\n",
       "      <td>5</td>\n",
       "      <td>5</td>\n",
       "      <td>5</td>\n",
       "      <td>5</td>\n",
       "      <td>5</td>\n",
       "      <td>5</td>\n",
       "      <td>5</td>\n",
       "      <td>5</td>\n",
       "      <td>5</td>\n",
       "      <td>5</td>\n",
       "    </tr>\n",
       "    <tr>\n",
       "      <th rowspan=\"2\" valign=\"top\">Flying</th>\n",
       "      <th>False</th>\n",
       "      <td>2</td>\n",
       "      <td>2</td>\n",
       "      <td>2</td>\n",
       "      <td>2</td>\n",
       "      <td>2</td>\n",
       "      <td>2</td>\n",
       "      <td>2</td>\n",
       "      <td>2</td>\n",
       "      <td>2</td>\n",
       "      <td>2</td>\n",
       "      <td>2</td>\n",
       "    </tr>\n",
       "    <tr>\n",
       "      <th>True</th>\n",
       "      <td>2</td>\n",
       "      <td>2</td>\n",
       "      <td>2</td>\n",
       "      <td>2</td>\n",
       "      <td>2</td>\n",
       "      <td>2</td>\n",
       "      <td>2</td>\n",
       "      <td>2</td>\n",
       "      <td>2</td>\n",
       "      <td>2</td>\n",
       "      <td>2</td>\n",
       "    </tr>\n",
       "    <tr>\n",
       "      <th rowspan=\"2\" valign=\"top\">Ghost</th>\n",
       "      <th>False</th>\n",
       "      <td>30</td>\n",
       "      <td>30</td>\n",
       "      <td>30</td>\n",
       "      <td>30</td>\n",
       "      <td>30</td>\n",
       "      <td>30</td>\n",
       "      <td>30</td>\n",
       "      <td>30</td>\n",
       "      <td>30</td>\n",
       "      <td>30</td>\n",
       "      <td>30</td>\n",
       "    </tr>\n",
       "    <tr>\n",
       "      <th>True</th>\n",
       "      <td>2</td>\n",
       "      <td>2</td>\n",
       "      <td>2</td>\n",
       "      <td>2</td>\n",
       "      <td>2</td>\n",
       "      <td>2</td>\n",
       "      <td>2</td>\n",
       "      <td>2</td>\n",
       "      <td>2</td>\n",
       "      <td>2</td>\n",
       "      <td>2</td>\n",
       "    </tr>\n",
       "    <tr>\n",
       "      <th rowspan=\"2\" valign=\"top\">Grass</th>\n",
       "      <th>False</th>\n",
       "      <td>67</td>\n",
       "      <td>67</td>\n",
       "      <td>67</td>\n",
       "      <td>67</td>\n",
       "      <td>67</td>\n",
       "      <td>67</td>\n",
       "      <td>67</td>\n",
       "      <td>67</td>\n",
       "      <td>67</td>\n",
       "      <td>67</td>\n",
       "      <td>67</td>\n",
       "    </tr>\n",
       "    <tr>\n",
       "      <th>True</th>\n",
       "      <td>3</td>\n",
       "      <td>3</td>\n",
       "      <td>3</td>\n",
       "      <td>3</td>\n",
       "      <td>3</td>\n",
       "      <td>3</td>\n",
       "      <td>3</td>\n",
       "      <td>3</td>\n",
       "      <td>3</td>\n",
       "      <td>3</td>\n",
       "      <td>3</td>\n",
       "    </tr>\n",
       "    <tr>\n",
       "      <th rowspan=\"2\" valign=\"top\">Ground</th>\n",
       "      <th>False</th>\n",
       "      <td>28</td>\n",
       "      <td>28</td>\n",
       "      <td>28</td>\n",
       "      <td>28</td>\n",
       "      <td>28</td>\n",
       "      <td>28</td>\n",
       "      <td>28</td>\n",
       "      <td>28</td>\n",
       "      <td>28</td>\n",
       "      <td>28</td>\n",
       "      <td>28</td>\n",
       "    </tr>\n",
       "    <tr>\n",
       "      <th>True</th>\n",
       "      <td>4</td>\n",
       "      <td>4</td>\n",
       "      <td>4</td>\n",
       "      <td>4</td>\n",
       "      <td>4</td>\n",
       "      <td>4</td>\n",
       "      <td>4</td>\n",
       "      <td>4</td>\n",
       "      <td>4</td>\n",
       "      <td>4</td>\n",
       "      <td>4</td>\n",
       "    </tr>\n",
       "    <tr>\n",
       "      <th rowspan=\"2\" valign=\"top\">Ice</th>\n",
       "      <th>False</th>\n",
       "      <td>22</td>\n",
       "      <td>22</td>\n",
       "      <td>22</td>\n",
       "      <td>22</td>\n",
       "      <td>22</td>\n",
       "      <td>22</td>\n",
       "      <td>22</td>\n",
       "      <td>22</td>\n",
       "      <td>22</td>\n",
       "      <td>22</td>\n",
       "      <td>22</td>\n",
       "    </tr>\n",
       "    <tr>\n",
       "      <th>True</th>\n",
       "      <td>2</td>\n",
       "      <td>2</td>\n",
       "      <td>2</td>\n",
       "      <td>2</td>\n",
       "      <td>2</td>\n",
       "      <td>2</td>\n",
       "      <td>2</td>\n",
       "      <td>2</td>\n",
       "      <td>2</td>\n",
       "      <td>2</td>\n",
       "      <td>2</td>\n",
       "    </tr>\n",
       "    <tr>\n",
       "      <th rowspan=\"2\" valign=\"top\">Normal</th>\n",
       "      <th>False</th>\n",
       "      <td>96</td>\n",
       "      <td>96</td>\n",
       "      <td>96</td>\n",
       "      <td>96</td>\n",
       "      <td>96</td>\n",
       "      <td>96</td>\n",
       "      <td>96</td>\n",
       "      <td>96</td>\n",
       "      <td>96</td>\n",
       "      <td>96</td>\n",
       "      <td>96</td>\n",
       "    </tr>\n",
       "    <tr>\n",
       "      <th>True</th>\n",
       "      <td>2</td>\n",
       "      <td>2</td>\n",
       "      <td>2</td>\n",
       "      <td>2</td>\n",
       "      <td>2</td>\n",
       "      <td>2</td>\n",
       "      <td>2</td>\n",
       "      <td>2</td>\n",
       "      <td>2</td>\n",
       "      <td>2</td>\n",
       "      <td>2</td>\n",
       "    </tr>\n",
       "    <tr>\n",
       "      <th>Poison</th>\n",
       "      <th>False</th>\n",
       "      <td>28</td>\n",
       "      <td>28</td>\n",
       "      <td>28</td>\n",
       "      <td>28</td>\n",
       "      <td>28</td>\n",
       "      <td>28</td>\n",
       "      <td>28</td>\n",
       "      <td>28</td>\n",
       "      <td>28</td>\n",
       "      <td>28</td>\n",
       "      <td>28</td>\n",
       "    </tr>\n",
       "    <tr>\n",
       "      <th rowspan=\"2\" valign=\"top\">Psychic</th>\n",
       "      <th>False</th>\n",
       "      <td>43</td>\n",
       "      <td>43</td>\n",
       "      <td>43</td>\n",
       "      <td>43</td>\n",
       "      <td>43</td>\n",
       "      <td>43</td>\n",
       "      <td>43</td>\n",
       "      <td>43</td>\n",
       "      <td>43</td>\n",
       "      <td>43</td>\n",
       "      <td>43</td>\n",
       "    </tr>\n",
       "    <tr>\n",
       "      <th>True</th>\n",
       "      <td>14</td>\n",
       "      <td>14</td>\n",
       "      <td>14</td>\n",
       "      <td>14</td>\n",
       "      <td>14</td>\n",
       "      <td>14</td>\n",
       "      <td>14</td>\n",
       "      <td>14</td>\n",
       "      <td>14</td>\n",
       "      <td>14</td>\n",
       "      <td>14</td>\n",
       "    </tr>\n",
       "    <tr>\n",
       "      <th rowspan=\"2\" valign=\"top\">Rock</th>\n",
       "      <th>False</th>\n",
       "      <td>40</td>\n",
       "      <td>40</td>\n",
       "      <td>40</td>\n",
       "      <td>40</td>\n",
       "      <td>40</td>\n",
       "      <td>40</td>\n",
       "      <td>40</td>\n",
       "      <td>40</td>\n",
       "      <td>40</td>\n",
       "      <td>40</td>\n",
       "      <td>40</td>\n",
       "    </tr>\n",
       "    <tr>\n",
       "      <th>True</th>\n",
       "      <td>4</td>\n",
       "      <td>4</td>\n",
       "      <td>4</td>\n",
       "      <td>4</td>\n",
       "      <td>4</td>\n",
       "      <td>4</td>\n",
       "      <td>4</td>\n",
       "      <td>4</td>\n",
       "      <td>4</td>\n",
       "      <td>4</td>\n",
       "      <td>4</td>\n",
       "    </tr>\n",
       "    <tr>\n",
       "      <th rowspan=\"2\" valign=\"top\">Steel</th>\n",
       "      <th>False</th>\n",
       "      <td>23</td>\n",
       "      <td>23</td>\n",
       "      <td>23</td>\n",
       "      <td>23</td>\n",
       "      <td>23</td>\n",
       "      <td>23</td>\n",
       "      <td>23</td>\n",
       "      <td>23</td>\n",
       "      <td>23</td>\n",
       "      <td>23</td>\n",
       "      <td>23</td>\n",
       "    </tr>\n",
       "    <tr>\n",
       "      <th>True</th>\n",
       "      <td>4</td>\n",
       "      <td>4</td>\n",
       "      <td>4</td>\n",
       "      <td>4</td>\n",
       "      <td>4</td>\n",
       "      <td>4</td>\n",
       "      <td>4</td>\n",
       "      <td>4</td>\n",
       "      <td>4</td>\n",
       "      <td>4</td>\n",
       "      <td>4</td>\n",
       "    </tr>\n",
       "    <tr>\n",
       "      <th rowspan=\"2\" valign=\"top\">Water</th>\n",
       "      <th>False</th>\n",
       "      <td>108</td>\n",
       "      <td>108</td>\n",
       "      <td>108</td>\n",
       "      <td>108</td>\n",
       "      <td>108</td>\n",
       "      <td>108</td>\n",
       "      <td>108</td>\n",
       "      <td>108</td>\n",
       "      <td>108</td>\n",
       "      <td>108</td>\n",
       "      <td>108</td>\n",
       "    </tr>\n",
       "    <tr>\n",
       "      <th>True</th>\n",
       "      <td>4</td>\n",
       "      <td>4</td>\n",
       "      <td>4</td>\n",
       "      <td>4</td>\n",
       "      <td>4</td>\n",
       "      <td>4</td>\n",
       "      <td>4</td>\n",
       "      <td>4</td>\n",
       "      <td>4</td>\n",
       "      <td>4</td>\n",
       "      <td>4</td>\n",
       "    </tr>\n",
       "  </tbody>\n",
       "</table>\n",
       "</div>"
      ],
      "text/plain": [
       "                      #  Name  Type 2  Total   HP  Attack  Defense  Sp. Atk  \\\n",
       "Type 1   Legendary                                                            \n",
       "Bug      False       69    69      69     69   69      69       69       69   \n",
       "Dark     False       29    29      29     29   29      29       29       29   \n",
       "         True         2     2       2      2    2       2        2        2   \n",
       "Dragon   False       20    20      20     20   20      20       20       20   \n",
       "         True        12    12      12     12   12      12       12       12   \n",
       "Electric False       40    40      40     40   40      40       40       40   \n",
       "         True         4     4       4      4    4       4        4        4   \n",
       "Fairy    False       16    16      16     16   16      16       16       16   \n",
       "         True         1     1       1      1    1       1        1        1   \n",
       "Fighting False       27    27      27     27   27      27       27       27   \n",
       "Fire     False       47    47      47     47   47      47       47       47   \n",
       "         True         5     5       5      5    5       5        5        5   \n",
       "Flying   False        2     2       2      2    2       2        2        2   \n",
       "         True         2     2       2      2    2       2        2        2   \n",
       "Ghost    False       30    30      30     30   30      30       30       30   \n",
       "         True         2     2       2      2    2       2        2        2   \n",
       "Grass    False       67    67      67     67   67      67       67       67   \n",
       "         True         3     3       3      3    3       3        3        3   \n",
       "Ground   False       28    28      28     28   28      28       28       28   \n",
       "         True         4     4       4      4    4       4        4        4   \n",
       "Ice      False       22    22      22     22   22      22       22       22   \n",
       "         True         2     2       2      2    2       2        2        2   \n",
       "Normal   False       96    96      96     96   96      96       96       96   \n",
       "         True         2     2       2      2    2       2        2        2   \n",
       "Poison   False       28    28      28     28   28      28       28       28   \n",
       "Psychic  False       43    43      43     43   43      43       43       43   \n",
       "         True        14    14      14     14   14      14       14       14   \n",
       "Rock     False       40    40      40     40   40      40       40       40   \n",
       "         True         4     4       4      4    4       4        4        4   \n",
       "Steel    False       23    23      23     23   23      23       23       23   \n",
       "         True         4     4       4      4    4       4        4        4   \n",
       "Water    False      108   108     108    108  108     108      108      108   \n",
       "         True         4     4       4      4    4       4        4        4   \n",
       "\n",
       "                    Sp. Def  Speed  Generation  \n",
       "Type 1   Legendary                              \n",
       "Bug      False           69     69          69  \n",
       "Dark     False           29     29          29  \n",
       "         True             2      2           2  \n",
       "Dragon   False           20     20          20  \n",
       "         True            12     12          12  \n",
       "Electric False           40     40          40  \n",
       "         True             4      4           4  \n",
       "Fairy    False           16     16          16  \n",
       "         True             1      1           1  \n",
       "Fighting False           27     27          27  \n",
       "Fire     False           47     47          47  \n",
       "         True             5      5           5  \n",
       "Flying   False            2      2           2  \n",
       "         True             2      2           2  \n",
       "Ghost    False           30     30          30  \n",
       "         True             2      2           2  \n",
       "Grass    False           67     67          67  \n",
       "         True             3      3           3  \n",
       "Ground   False           28     28          28  \n",
       "         True             4      4           4  \n",
       "Ice      False           22     22          22  \n",
       "         True             2      2           2  \n",
       "Normal   False           96     96          96  \n",
       "         True             2      2           2  \n",
       "Poison   False           28     28          28  \n",
       "Psychic  False           43     43          43  \n",
       "         True            14     14          14  \n",
       "Rock     False           40     40          40  \n",
       "         True             4      4           4  \n",
       "Steel    False           23     23          23  \n",
       "         True             4      4           4  \n",
       "Water    False          108    108         108  \n",
       "         True             4      4           4  "
      ]
     },
     "execution_count": 28,
     "metadata": {},
     "output_type": "execute_result"
    }
   ],
   "source": [
    "pk.groupby(['Type 1','Legendary']).count()"
   ]
  },
  {
   "cell_type": "code",
   "execution_count": 29,
   "id": "caff5477",
   "metadata": {},
   "outputs": [
    {
     "data": {
      "image/png": "[encoded data removed]",
      "text/plain": [
       "<Figure size 1080x720 with 1 Axes>"
      ]
     },
     "metadata": {
      "needs_background": "light"
     },
     "output_type": "display_data"
    }
   ],
   "source": [
    "bar2= sys.catplot(x='Type 1',\n",
    "                  data=pk,\n",
    "                  kind='count',\n",
    "                  hue='Legendary',\n",
    "                  height=10,\n",
    "                  aspect=1.5,\n",
    "                  legend=False).set_axis_labels('Type 1')\n",
    "\n",
    "bar2.ax.legend(loc='upper center', bbox_to_anchor=(0.5, 1.1), shadow=True)\n",
    "plt.show()"
   ]
  },
  {
   "cell_type": "markdown",
   "id": "33e6bfe8",
   "metadata": {},
   "source": [
    "### IN TYPE 1,\n",
    "### Bug, Fighting, Poison Pokemon doesnt have legendary pokemon.\n",
    "### Psychic pokemon has highest legendary pokemon.\n",
    "### Dark, Flying, Ghost, Ice, Normal Pokemon has 2 legendary pokemon each.\n",
    "### Water, Steel, Rock, Ground, Elecric Pokemon has 4 legendary pokemon each.\n",
    "### Fariy pokemon has only one legendary pokemon."
   ]
  },
  {
   "cell_type": "code",
   "execution_count": 30,
   "id": "898e5c84",
   "metadata": {},
   "outputs": [
    {
     "data": {
      "text/html": [
       "<div>\n",
       "<style scoped>\n",
       "    .dataframe tbody tr th:only-of-type {\n",
       "        vertical-align: middle;\n",
       "    }\n",
       "\n",
       "    .dataframe tbody tr th {\n",
       "        vertical-align: top;\n",
       "    }\n",
       "\n",
       "    .dataframe thead th {\n",
       "        text-align: right;\n",
       "    }\n",
       "</style>\n",
       "<table border=\"1\" class=\"dataframe\">\n",
       "  <thead>\n",
       "    <tr style=\"text-align: right;\">\n",
       "      <th></th>\n",
       "      <th></th>\n",
       "      <th>#</th>\n",
       "      <th>Name</th>\n",
       "      <th>Type 1</th>\n",
       "      <th>Total</th>\n",
       "      <th>HP</th>\n",
       "      <th>Attack</th>\n",
       "      <th>Defense</th>\n",
       "      <th>Sp. Atk</th>\n",
       "      <th>Sp. Def</th>\n",
       "      <th>Speed</th>\n",
       "      <th>Generation</th>\n",
       "    </tr>\n",
       "    <tr>\n",
       "      <th>Type 2</th>\n",
       "      <th>Legendary</th>\n",
       "      <th></th>\n",
       "      <th></th>\n",
       "      <th></th>\n",
       "      <th></th>\n",
       "      <th></th>\n",
       "      <th></th>\n",
       "      <th></th>\n",
       "      <th></th>\n",
       "      <th></th>\n",
       "      <th></th>\n",
       "      <th></th>\n",
       "    </tr>\n",
       "  </thead>\n",
       "  <tbody>\n",
       "    <tr>\n",
       "      <th>Bug</th>\n",
       "      <th>False</th>\n",
       "      <td>3</td>\n",
       "      <td>3</td>\n",
       "      <td>3</td>\n",
       "      <td>3</td>\n",
       "      <td>3</td>\n",
       "      <td>3</td>\n",
       "      <td>3</td>\n",
       "      <td>3</td>\n",
       "      <td>3</td>\n",
       "      <td>3</td>\n",
       "      <td>3</td>\n",
       "    </tr>\n",
       "    <tr>\n",
       "      <th rowspan=\"2\" valign=\"top\">Dark</th>\n",
       "      <th>False</th>\n",
       "      <td>19</td>\n",
       "      <td>19</td>\n",
       "      <td>19</td>\n",
       "      <td>19</td>\n",
       "      <td>19</td>\n",
       "      <td>19</td>\n",
       "      <td>19</td>\n",
       "      <td>19</td>\n",
       "      <td>19</td>\n",
       "      <td>19</td>\n",
       "      <td>19</td>\n",
       "    </tr>\n",
       "    <tr>\n",
       "      <th>True</th>\n",
       "      <td>1</td>\n",
       "      <td>1</td>\n",
       "      <td>1</td>\n",
       "      <td>1</td>\n",
       "      <td>1</td>\n",
       "      <td>1</td>\n",
       "      <td>1</td>\n",
       "      <td>1</td>\n",
       "      <td>1</td>\n",
       "      <td>1</td>\n",
       "      <td>1</td>\n",
       "    </tr>\n",
       "    <tr>\n",
       "      <th rowspan=\"2\" valign=\"top\">Dragon</th>\n",
       "      <th>False</th>\n",
       "      <td>14</td>\n",
       "      <td>14</td>\n",
       "      <td>14</td>\n",
       "      <td>14</td>\n",
       "      <td>14</td>\n",
       "      <td>14</td>\n",
       "      <td>14</td>\n",
       "      <td>14</td>\n",
       "      <td>14</td>\n",
       "      <td>14</td>\n",
       "      <td>14</td>\n",
       "    </tr>\n",
       "    <tr>\n",
       "      <th>True</th>\n",
       "      <td>4</td>\n",
       "      <td>4</td>\n",
       "      <td>4</td>\n",
       "      <td>4</td>\n",
       "      <td>4</td>\n",
       "      <td>4</td>\n",
       "      <td>4</td>\n",
       "      <td>4</td>\n",
       "      <td>4</td>\n",
       "      <td>4</td>\n",
       "      <td>4</td>\n",
       "    </tr>\n",
       "    <tr>\n",
       "      <th rowspan=\"2\" valign=\"top\">Electric</th>\n",
       "      <th>False</th>\n",
       "      <td>5</td>\n",
       "      <td>5</td>\n",
       "      <td>5</td>\n",
       "      <td>5</td>\n",
       "      <td>5</td>\n",
       "      <td>5</td>\n",
       "      <td>5</td>\n",
       "      <td>5</td>\n",
       "      <td>5</td>\n",
       "      <td>5</td>\n",
       "      <td>5</td>\n",
       "    </tr>\n",
       "    <tr>\n",
       "      <th>True</th>\n",
       "      <td>1</td>\n",
       "      <td>1</td>\n",
       "      <td>1</td>\n",
       "      <td>1</td>\n",
       "      <td>1</td>\n",
       "      <td>1</td>\n",
       "      <td>1</td>\n",
       "      <td>1</td>\n",
       "      <td>1</td>\n",
       "      <td>1</td>\n",
       "      <td>1</td>\n",
       "    </tr>\n",
       "    <tr>\n",
       "      <th rowspan=\"2\" valign=\"top\">Fairy</th>\n",
       "      <th>False</th>\n",
       "      <td>21</td>\n",
       "      <td>21</td>\n",
       "      <td>21</td>\n",
       "      <td>21</td>\n",
       "      <td>21</td>\n",
       "      <td>21</td>\n",
       "      <td>21</td>\n",
       "      <td>21</td>\n",
       "      <td>21</td>\n",
       "      <td>21</td>\n",
       "      <td>21</td>\n",
       "    </tr>\n",
       "    <tr>\n",
       "      <th>True</th>\n",
       "      <td>2</td>\n",
       "      <td>2</td>\n",
       "      <td>2</td>\n",
       "      <td>2</td>\n",
       "      <td>2</td>\n",
       "      <td>2</td>\n",
       "      <td>2</td>\n",
       "      <td>2</td>\n",
       "      <td>2</td>\n",
       "      <td>2</td>\n",
       "      <td>2</td>\n",
       "    </tr>\n",
       "    <tr>\n",
       "      <th rowspan=\"2\" valign=\"top\">Fighting</th>\n",
       "      <th>False</th>\n",
       "      <td>22</td>\n",
       "      <td>22</td>\n",
       "      <td>22</td>\n",
       "      <td>22</td>\n",
       "      <td>22</td>\n",
       "      <td>22</td>\n",
       "      <td>22</td>\n",
       "      <td>22</td>\n",
       "      <td>22</td>\n",
       "      <td>22</td>\n",
       "      <td>22</td>\n",
       "    </tr>\n",
       "    <tr>\n",
       "      <th>True</th>\n",
       "      <td>4</td>\n",
       "      <td>4</td>\n",
       "      <td>4</td>\n",
       "      <td>4</td>\n",
       "      <td>4</td>\n",
       "      <td>4</td>\n",
       "      <td>4</td>\n",
       "      <td>4</td>\n",
       "      <td>4</td>\n",
       "      <td>4</td>\n",
       "      <td>4</td>\n",
       "    </tr>\n",
       "    <tr>\n",
       "      <th rowspan=\"2\" valign=\"top\">Fire</th>\n",
       "      <th>False</th>\n",
       "      <td>9</td>\n",
       "      <td>9</td>\n",
       "      <td>9</td>\n",
       "      <td>9</td>\n",
       "      <td>9</td>\n",
       "      <td>9</td>\n",
       "      <td>9</td>\n",
       "      <td>9</td>\n",
       "      <td>9</td>\n",
       "      <td>9</td>\n",
       "      <td>9</td>\n",
       "    </tr>\n",
       "    <tr>\n",
       "      <th>True</th>\n",
       "      <td>3</td>\n",
       "      <td>3</td>\n",
       "      <td>3</td>\n",
       "      <td>3</td>\n",
       "      <td>3</td>\n",
       "      <td>3</td>\n",
       "      <td>3</td>\n",
       "      <td>3</td>\n",
       "      <td>3</td>\n",
       "      <td>3</td>\n",
       "      <td>3</td>\n",
       "    </tr>\n",
       "    <tr>\n",
       "      <th rowspan=\"2\" valign=\"top\">Flying</th>\n",
       "      <th>False</th>\n",
       "      <td>84</td>\n",
       "      <td>84</td>\n",
       "      <td>84</td>\n",
       "      <td>84</td>\n",
       "      <td>84</td>\n",
       "      <td>84</td>\n",
       "      <td>84</td>\n",
       "      <td>84</td>\n",
       "      <td>84</td>\n",
       "      <td>84</td>\n",
       "      <td>84</td>\n",
       "    </tr>\n",
       "    <tr>\n",
       "      <th>True</th>\n",
       "      <td>13</td>\n",
       "      <td>13</td>\n",
       "      <td>13</td>\n",
       "      <td>13</td>\n",
       "      <td>13</td>\n",
       "      <td>13</td>\n",
       "      <td>13</td>\n",
       "      <td>13</td>\n",
       "      <td>13</td>\n",
       "      <td>13</td>\n",
       "      <td>13</td>\n",
       "    </tr>\n",
       "    <tr>\n",
       "      <th rowspan=\"2\" valign=\"top\">Ghost</th>\n",
       "      <th>False</th>\n",
       "      <td>13</td>\n",
       "      <td>13</td>\n",
       "      <td>13</td>\n",
       "      <td>13</td>\n",
       "      <td>13</td>\n",
       "      <td>13</td>\n",
       "      <td>13</td>\n",
       "      <td>13</td>\n",
       "      <td>13</td>\n",
       "      <td>13</td>\n",
       "      <td>13</td>\n",
       "    </tr>\n",
       "    <tr>\n",
       "      <th>True</th>\n",
       "      <td>1</td>\n",
       "      <td>1</td>\n",
       "      <td>1</td>\n",
       "      <td>1</td>\n",
       "      <td>1</td>\n",
       "      <td>1</td>\n",
       "      <td>1</td>\n",
       "      <td>1</td>\n",
       "      <td>1</td>\n",
       "      <td>1</td>\n",
       "      <td>1</td>\n",
       "    </tr>\n",
       "    <tr>\n",
       "      <th>Grass</th>\n",
       "      <th>False</th>\n",
       "      <td>25</td>\n",
       "      <td>25</td>\n",
       "      <td>25</td>\n",
       "      <td>25</td>\n",
       "      <td>25</td>\n",
       "      <td>25</td>\n",
       "      <td>25</td>\n",
       "      <td>25</td>\n",
       "      <td>25</td>\n",
       "      <td>25</td>\n",
       "      <td>25</td>\n",
       "    </tr>\n",
       "    <tr>\n",
       "      <th rowspan=\"2\" valign=\"top\">Ground</th>\n",
       "      <th>False</th>\n",
       "      <td>34</td>\n",
       "      <td>34</td>\n",
       "      <td>34</td>\n",
       "      <td>34</td>\n",
       "      <td>34</td>\n",
       "      <td>34</td>\n",
       "      <td>34</td>\n",
       "      <td>34</td>\n",
       "      <td>34</td>\n",
       "      <td>34</td>\n",
       "      <td>34</td>\n",
       "    </tr>\n",
       "    <tr>\n",
       "      <th>True</th>\n",
       "      <td>1</td>\n",
       "      <td>1</td>\n",
       "      <td>1</td>\n",
       "      <td>1</td>\n",
       "      <td>1</td>\n",
       "      <td>1</td>\n",
       "      <td>1</td>\n",
       "      <td>1</td>\n",
       "      <td>1</td>\n",
       "      <td>1</td>\n",
       "      <td>1</td>\n",
       "    </tr>\n",
       "    <tr>\n",
       "      <th rowspan=\"2\" valign=\"top\">Ice</th>\n",
       "      <th>False</th>\n",
       "      <td>11</td>\n",
       "      <td>11</td>\n",
       "      <td>11</td>\n",
       "      <td>11</td>\n",
       "      <td>11</td>\n",
       "      <td>11</td>\n",
       "      <td>11</td>\n",
       "      <td>11</td>\n",
       "      <td>11</td>\n",
       "      <td>11</td>\n",
       "      <td>11</td>\n",
       "    </tr>\n",
       "    <tr>\n",
       "      <th>True</th>\n",
       "      <td>3</td>\n",
       "      <td>3</td>\n",
       "      <td>3</td>\n",
       "      <td>3</td>\n",
       "      <td>3</td>\n",
       "      <td>3</td>\n",
       "      <td>3</td>\n",
       "      <td>3</td>\n",
       "      <td>3</td>\n",
       "      <td>3</td>\n",
       "      <td>3</td>\n",
       "    </tr>\n",
       "    <tr>\n",
       "      <th>Normal</th>\n",
       "      <th>False</th>\n",
       "      <td>4</td>\n",
       "      <td>4</td>\n",
       "      <td>4</td>\n",
       "      <td>4</td>\n",
       "      <td>4</td>\n",
       "      <td>4</td>\n",
       "      <td>4</td>\n",
       "      <td>4</td>\n",
       "      <td>4</td>\n",
       "      <td>4</td>\n",
       "      <td>4</td>\n",
       "    </tr>\n",
       "    <tr>\n",
       "      <th>Poison</th>\n",
       "      <th>False</th>\n",
       "      <td>34</td>\n",
       "      <td>34</td>\n",
       "      <td>34</td>\n",
       "      <td>34</td>\n",
       "      <td>34</td>\n",
       "      <td>34</td>\n",
       "      <td>34</td>\n",
       "      <td>34</td>\n",
       "      <td>34</td>\n",
       "      <td>34</td>\n",
       "      <td>34</td>\n",
       "    </tr>\n",
       "    <tr>\n",
       "      <th rowspan=\"2\" valign=\"top\">Psychic</th>\n",
       "      <th>False</th>\n",
       "      <td>28</td>\n",
       "      <td>28</td>\n",
       "      <td>28</td>\n",
       "      <td>28</td>\n",
       "      <td>28</td>\n",
       "      <td>28</td>\n",
       "      <td>28</td>\n",
       "      <td>28</td>\n",
       "      <td>28</td>\n",
       "      <td>28</td>\n",
       "      <td>28</td>\n",
       "    </tr>\n",
       "    <tr>\n",
       "      <th>True</th>\n",
       "      <td>5</td>\n",
       "      <td>5</td>\n",
       "      <td>5</td>\n",
       "      <td>5</td>\n",
       "      <td>5</td>\n",
       "      <td>5</td>\n",
       "      <td>5</td>\n",
       "      <td>5</td>\n",
       "      <td>5</td>\n",
       "      <td>5</td>\n",
       "      <td>5</td>\n",
       "    </tr>\n",
       "    <tr>\n",
       "      <th>Rock</th>\n",
       "      <th>False</th>\n",
       "      <td>14</td>\n",
       "      <td>14</td>\n",
       "      <td>14</td>\n",
       "      <td>14</td>\n",
       "      <td>14</td>\n",
       "      <td>14</td>\n",
       "      <td>14</td>\n",
       "      <td>14</td>\n",
       "      <td>14</td>\n",
       "      <td>14</td>\n",
       "      <td>14</td>\n",
       "    </tr>\n",
       "    <tr>\n",
       "      <th rowspan=\"2\" valign=\"top\">Steel</th>\n",
       "      <th>False</th>\n",
       "      <td>21</td>\n",
       "      <td>21</td>\n",
       "      <td>21</td>\n",
       "      <td>21</td>\n",
       "      <td>21</td>\n",
       "      <td>21</td>\n",
       "      <td>21</td>\n",
       "      <td>21</td>\n",
       "      <td>21</td>\n",
       "      <td>21</td>\n",
       "      <td>21</td>\n",
       "    </tr>\n",
       "    <tr>\n",
       "      <th>True</th>\n",
       "      <td>1</td>\n",
       "      <td>1</td>\n",
       "      <td>1</td>\n",
       "      <td>1</td>\n",
       "      <td>1</td>\n",
       "      <td>1</td>\n",
       "      <td>1</td>\n",
       "      <td>1</td>\n",
       "      <td>1</td>\n",
       "      <td>1</td>\n",
       "      <td>1</td>\n",
       "    </tr>\n",
       "    <tr>\n",
       "      <th rowspan=\"2\" valign=\"top\">Water</th>\n",
       "      <th>False</th>\n",
       "      <td>13</td>\n",
       "      <td>13</td>\n",
       "      <td>13</td>\n",
       "      <td>13</td>\n",
       "      <td>13</td>\n",
       "      <td>13</td>\n",
       "      <td>13</td>\n",
       "      <td>13</td>\n",
       "      <td>13</td>\n",
       "      <td>13</td>\n",
       "      <td>13</td>\n",
       "    </tr>\n",
       "    <tr>\n",
       "      <th>True</th>\n",
       "      <td>1</td>\n",
       "      <td>1</td>\n",
       "      <td>1</td>\n",
       "      <td>1</td>\n",
       "      <td>1</td>\n",
       "      <td>1</td>\n",
       "      <td>1</td>\n",
       "      <td>1</td>\n",
       "      <td>1</td>\n",
       "      <td>1</td>\n",
       "      <td>1</td>\n",
       "    </tr>\n",
       "    <tr>\n",
       "      <th rowspan=\"2\" valign=\"top\">none</th>\n",
       "      <th>False</th>\n",
       "      <td>361</td>\n",
       "      <td>361</td>\n",
       "      <td>361</td>\n",
       "      <td>361</td>\n",
       "      <td>361</td>\n",
       "      <td>361</td>\n",
       "      <td>361</td>\n",
       "      <td>361</td>\n",
       "      <td>361</td>\n",
       "      <td>361</td>\n",
       "      <td>361</td>\n",
       "    </tr>\n",
       "    <tr>\n",
       "      <th>True</th>\n",
       "      <td>25</td>\n",
       "      <td>25</td>\n",
       "      <td>25</td>\n",
       "      <td>25</td>\n",
       "      <td>25</td>\n",
       "      <td>25</td>\n",
       "      <td>25</td>\n",
       "      <td>25</td>\n",
       "      <td>25</td>\n",
       "      <td>25</td>\n",
       "      <td>25</td>\n",
       "    </tr>\n",
       "  </tbody>\n",
       "</table>\n",
       "</div>"
      ],
      "text/plain": [
       "                      #  Name  Type 1  Total   HP  Attack  Defense  Sp. Atk  \\\n",
       "Type 2   Legendary                                                            \n",
       "Bug      False        3     3       3      3    3       3        3        3   \n",
       "Dark     False       19    19      19     19   19      19       19       19   \n",
       "         True         1     1       1      1    1       1        1        1   \n",
       "Dragon   False       14    14      14     14   14      14       14       14   \n",
       "         True         4     4       4      4    4       4        4        4   \n",
       "Electric False        5     5       5      5    5       5        5        5   \n",
       "         True         1     1       1      1    1       1        1        1   \n",
       "Fairy    False       21    21      21     21   21      21       21       21   \n",
       "         True         2     2       2      2    2       2        2        2   \n",
       "Fighting False       22    22      22     22   22      22       22       22   \n",
       "         True         4     4       4      4    4       4        4        4   \n",
       "Fire     False        9     9       9      9    9       9        9        9   \n",
       "         True         3     3       3      3    3       3        3        3   \n",
       "Flying   False       84    84      84     84   84      84       84       84   \n",
       "         True        13    13      13     13   13      13       13       13   \n",
       "Ghost    False       13    13      13     13   13      13       13       13   \n",
       "         True         1     1       1      1    1       1        1        1   \n",
       "Grass    False       25    25      25     25   25      25       25       25   \n",
       "Ground   False       34    34      34     34   34      34       34       34   \n",
       "         True         1     1       1      1    1       1        1        1   \n",
       "Ice      False       11    11      11     11   11      11       11       11   \n",
       "         True         3     3       3      3    3       3        3        3   \n",
       "Normal   False        4     4       4      4    4       4        4        4   \n",
       "Poison   False       34    34      34     34   34      34       34       34   \n",
       "Psychic  False       28    28      28     28   28      28       28       28   \n",
       "         True         5     5       5      5    5       5        5        5   \n",
       "Rock     False       14    14      14     14   14      14       14       14   \n",
       "Steel    False       21    21      21     21   21      21       21       21   \n",
       "         True         1     1       1      1    1       1        1        1   \n",
       "Water    False       13    13      13     13   13      13       13       13   \n",
       "         True         1     1       1      1    1       1        1        1   \n",
       "none     False      361   361     361    361  361     361      361      361   \n",
       "         True        25    25      25     25   25      25       25       25   \n",
       "\n",
       "                    Sp. Def  Speed  Generation  \n",
       "Type 2   Legendary                              \n",
       "Bug      False            3      3           3  \n",
       "Dark     False           19     19          19  \n",
       "         True             1      1           1  \n",
       "Dragon   False           14     14          14  \n",
       "         True             4      4           4  \n",
       "Electric False            5      5           5  \n",
       "         True             1      1           1  \n",
       "Fairy    False           21     21          21  \n",
       "         True             2      2           2  \n",
       "Fighting False           22     22          22  \n",
       "         True             4      4           4  \n",
       "Fire     False            9      9           9  \n",
       "         True             3      3           3  \n",
       "Flying   False           84     84          84  \n",
       "         True            13     13          13  \n",
       "Ghost    False           13     13          13  \n",
       "         True             1      1           1  \n",
       "Grass    False           25     25          25  \n",
       "Ground   False           34     34          34  \n",
       "         True             1      1           1  \n",
       "Ice      False           11     11          11  \n",
       "         True             3      3           3  \n",
       "Normal   False            4      4           4  \n",
       "Poison   False           34     34          34  \n",
       "Psychic  False           28     28          28  \n",
       "         True             5      5           5  \n",
       "Rock     False           14     14          14  \n",
       "Steel    False           21     21          21  \n",
       "         True             1      1           1  \n",
       "Water    False           13     13          13  \n",
       "         True             1      1           1  \n",
       "none     False          361    361         361  \n",
       "         True            25     25          25  "
      ]
     },
     "execution_count": 30,
     "metadata": {},
     "output_type": "execute_result"
    }
   ],
   "source": [
    "pk.groupby(['Type 2','Legendary']).count()"
   ]
  },
  {
   "cell_type": "code",
   "execution_count": 31,
   "id": "9cc2af03",
   "metadata": {},
   "outputs": [
    {
     "data": {
      "image/png": "[encoded data removed]",
      "text/plain": [
       "<Figure size 1080x720 with 1 Axes>"
      ]
     },
     "metadata": {
      "needs_background": "light"
     },
     "output_type": "display_data"
    }
   ],
   "source": [
    "bar3= sys.catplot(x='Type 2',\n",
    "                  data=pk,\n",
    "                  kind='count',\n",
    "                  hue='Legendary',\n",
    "                  height=10,\n",
    "                  aspect=1.5,\n",
    "                  legend=False).set_axis_labels('Type 1')\n",
    "\n",
    "bar3.ax.legend(loc='upper center', bbox_to_anchor=(0.5, 1.1), shadow=True)\n",
    "plt.show()"
   ]
  },
  {
   "cell_type": "markdown",
   "id": "44e99955",
   "metadata": {},
   "source": [
    "### In type 2,\n",
    "### None value has 25 legendary pokemon.\n",
    "### Flying pokemon has 13 legendary pokemon.\n",
    "### Bug, grass, normal, poison,rock pokemon doesnt have legendary pokemon.\n",
    "### Dark, Electric, Ghost, Ground, Steel, Water has 1 legendary pokemon each.\n",
    "### Fire and Ice pokemon has 3 legendary pokemon. \n",
    "### Dragon and Fighting pokemon has 4 legendary pokemon. \n"
   ]
  },
  {
   "cell_type": "code",
   "execution_count": 32,
   "id": "38233c32",
   "metadata": {},
   "outputs": [
    {
     "data": {
      "text/plain": [
       "count    800\n",
       "mean      69\n",
       "std       25\n",
       "min        1\n",
       "25%       50\n",
       "50%       65\n",
       "75%       80\n",
       "max      255\n",
       "Name: HP, dtype: int32"
      ]
     },
     "execution_count": 32,
     "metadata": {},
     "output_type": "execute_result"
    }
   ],
   "source": [
    "pk['HP'].describe().astype(int)"
   ]
  },
  {
   "cell_type": "code",
   "execution_count": 33,
   "id": "35312ecf",
   "metadata": {},
   "outputs": [
    {
     "name": "stderr",
     "output_type": "stream",
     "text": [
      "C:\\Users\\aditi\\anaconda_7june\\lib\\site-packages\\seaborn\\distributions.py:2557: FutureWarning: `distplot` is a deprecated function and will be removed in a future version. Please adapt your code to use either `displot` (a figure-level function with similar flexibility) or `histplot` (an axes-level function for histograms).\n",
      "  warnings.warn(msg, FutureWarning)\n"
     ]
    },
    {
     "data": {
      "text/plain": [
       "<AxesSubplot:xlabel='HP', ylabel='Density'>"
      ]
     },
     "execution_count": 33,
     "metadata": {},
     "output_type": "execute_result"
    },
    {
     "data": {
      "image/png": "[encoded data removed]",
      "text/plain": [
       "<Figure size 432x288 with 1 Axes>"
      ]
     },
     "metadata": {
      "needs_background": "light"
     },
     "output_type": "display_data"
    }
   ],
   "source": [
    "sys.distplot(pk.HP)"
   ]
  },
  {
   "cell_type": "markdown",
   "id": "c41dd951",
   "metadata": {},
   "source": [
    "### Max. HP is 255\n",
    "### Min HP is 1"
   ]
  },
  {
   "cell_type": "code",
   "execution_count": 34,
   "id": "13c583e5",
   "metadata": {},
   "outputs": [
    {
     "data": {
      "text/plain": [
       "count    800\n",
       "mean      79\n",
       "std       32\n",
       "min        5\n",
       "25%       55\n",
       "50%       75\n",
       "75%      100\n",
       "max      190\n",
       "Name: Attack, dtype: int32"
      ]
     },
     "execution_count": 34,
     "metadata": {},
     "output_type": "execute_result"
    }
   ],
   "source": [
    "pk['Attack'].describe().astype(int)"
   ]
  },
  {
   "cell_type": "code",
   "execution_count": 35,
   "id": "4d47ce83",
   "metadata": {
    "scrolled": true
   },
   "outputs": [
    {
     "name": "stderr",
     "output_type": "stream",
     "text": [
      "C:\\Users\\aditi\\anaconda_7june\\lib\\site-packages\\seaborn\\distributions.py:2557: FutureWarning: `distplot` is a deprecated function and will be removed in a future version. Please adapt your code to use either `displot` (a figure-level function with similar flexibility) or `histplot` (an axes-level function for histograms).\n",
      "  warnings.warn(msg, FutureWarning)\n"
     ]
    },
    {
     "data": {
      "text/plain": [
       "<AxesSubplot:xlabel='Attack', ylabel='Density'>"
      ]
     },
     "execution_count": 35,
     "metadata": {},
     "output_type": "execute_result"
    },
    {
     "data": {
      "image/png": "[encoded data removed]",
      "text/plain": [
       "<Figure size 432x288 with 1 Axes>"
      ]
     },
     "metadata": {
      "needs_background": "light"
     },
     "output_type": "display_data"
    }
   ],
   "source": [
    "sys.distplot(pk.Attack)"
   ]
  },
  {
   "cell_type": "markdown",
   "id": "5948ddd4",
   "metadata": {},
   "source": [
    "### Maximum Attack points is 190\n",
    "### Minimum attack point is 5"
   ]
  },
  {
   "cell_type": "code",
   "execution_count": 36,
   "id": "340748f2",
   "metadata": {},
   "outputs": [
    {
     "data": {
      "text/plain": [
       "count    800\n",
       "mean      73\n",
       "std       31\n",
       "min        5\n",
       "25%       50\n",
       "50%       70\n",
       "75%       90\n",
       "max      230\n",
       "Name: Defense, dtype: int32"
      ]
     },
     "execution_count": 36,
     "metadata": {},
     "output_type": "execute_result"
    }
   ],
   "source": [
    "pk['Defense'].describe().astype(int)"
   ]
  },
  {
   "cell_type": "code",
   "execution_count": 37,
   "id": "e935a424",
   "metadata": {},
   "outputs": [
    {
     "name": "stderr",
     "output_type": "stream",
     "text": [
      "C:\\Users\\aditi\\anaconda_7june\\lib\\site-packages\\seaborn\\distributions.py:2557: FutureWarning: `distplot` is a deprecated function and will be removed in a future version. Please adapt your code to use either `displot` (a figure-level function with similar flexibility) or `histplot` (an axes-level function for histograms).\n",
      "  warnings.warn(msg, FutureWarning)\n"
     ]
    },
    {
     "data": {
      "text/plain": [
       "<AxesSubplot:xlabel='Defense', ylabel='Density'>"
      ]
     },
     "execution_count": 37,
     "metadata": {},
     "output_type": "execute_result"
    },
    {
     "data": {
      "image/png": "[encoded data removed]",
      "text/plain": [
       "<Figure size 432x288 with 1 Axes>"
      ]
     },
     "metadata": {
      "needs_background": "light"
     },
     "output_type": "display_data"
    }
   ],
   "source": [
    "sys.distplot(pk.Defense)"
   ]
  },
  {
   "cell_type": "markdown",
   "id": "e41265b5",
   "metadata": {},
   "source": [
    "### Maximum Defence points is 230\n",
    "### Minimum Defence point is 5"
   ]
  },
  {
   "cell_type": "code",
   "execution_count": 38,
   "id": "28dfbc6d",
   "metadata": {},
   "outputs": [
    {
     "data": {
      "text/plain": [
       "count    800\n",
       "mean      68\n",
       "std       29\n",
       "min        5\n",
       "25%       45\n",
       "50%       65\n",
       "75%       90\n",
       "max      180\n",
       "Name: Speed, dtype: int32"
      ]
     },
     "execution_count": 38,
     "metadata": {},
     "output_type": "execute_result"
    }
   ],
   "source": [
    "pk['Speed'].describe().astype(int)"
   ]
  },
  {
   "cell_type": "code",
   "execution_count": 39,
   "id": "8ec559e9",
   "metadata": {},
   "outputs": [
    {
     "name": "stderr",
     "output_type": "stream",
     "text": [
      "C:\\Users\\aditi\\anaconda_7june\\lib\\site-packages\\seaborn\\distributions.py:2557: FutureWarning: `distplot` is a deprecated function and will be removed in a future version. Please adapt your code to use either `displot` (a figure-level function with similar flexibility) or `histplot` (an axes-level function for histograms).\n",
      "  warnings.warn(msg, FutureWarning)\n"
     ]
    },
    {
     "data": {
      "text/plain": [
       "<AxesSubplot:xlabel='Speed', ylabel='Density'>"
      ]
     },
     "execution_count": 39,
     "metadata": {},
     "output_type": "execute_result"
    },
    {
     "data": {
      "image/png": "[encoded data removed]",
      "text/plain": [
       "<Figure size 432x288 with 1 Axes>"
      ]
     },
     "metadata": {
      "needs_background": "light"
     },
     "output_type": "display_data"
    }
   ],
   "source": [
    "sys.distplot(pk.Speed)"
   ]
  },
  {
   "cell_type": "markdown",
   "id": "d9866a22",
   "metadata": {},
   "source": [
    "### Maximum Speed of pokemon is 180.\n",
    "### Minimum speed of pokemon is 5."
   ]
  },
  {
   "cell_type": "code",
   "execution_count": 40,
   "id": "40e1d72b",
   "metadata": {},
   "outputs": [
    {
     "name": "stderr",
     "output_type": "stream",
     "text": [
      "C:\\Users\\aditi\\anaconda_7june\\lib\\site-packages\\statsmodels\\genmod\\families\\links.py:188: RuntimeWarning: overflow encountered in exp\n",
      "  t = np.exp(-z)\n"
     ]
    },
    {
     "data": {
      "text/plain": [
       "<seaborn.axisgrid.FacetGrid at 0x1a81e1f4310>"
      ]
     },
     "execution_count": 40,
     "metadata": {},
     "output_type": "execute_result"
    },
    {
     "data": {
      "image/png": "[encoded data removed]",
      "text/plain": [
       "<Figure size 436.125x360 with 1 Axes>"
      ]
     },
     "metadata": {
      "needs_background": "light"
     },
     "output_type": "display_data"
    }
   ],
   "source": [
    "#TYPE 1: ATTACK VS DEFENCE:\n",
    "sys.lmplot(x=\"Attack\", \n",
    "           y=\"Defense\",\n",
    "           data=pk,\n",
    "           hue='Type 1',\n",
    "           logistic=True)"
   ]
  },
  {
   "cell_type": "markdown",
   "id": "02159eb1",
   "metadata": {},
   "source": [
    "### In type 1,\n",
    "### Almost all pokemons are trained in attack and defense.\n",
    "### Outliers in this explains, few are highly defensive and attacking pokemon."
   ]
  },
  {
   "cell_type": "code",
   "execution_count": 136,
   "id": "10536c1d",
   "metadata": {},
   "outputs": [
    {
     "name": "stderr",
     "output_type": "stream",
     "text": [
      "C:\\Users\\aditi\\anaconda_7june\\lib\\site-packages\\statsmodels\\genmod\\families\\links.py:188: RuntimeWarning: overflow encountered in exp\n",
      "  t = np.exp(-z)\n"
     ]
    },
    {
     "data": {
      "text/plain": [
       "<seaborn.axisgrid.FacetGrid at 0x1a8225c2310>"
      ]
     },
     "execution_count": 136,
     "metadata": {},
     "output_type": "execute_result"
    },
    {
     "data": {
      "image/png": "[encoded data removed]",
      "text/plain": [
       "<Figure size 436.125x360 with 1 Axes>"
      ]
     },
     "metadata": {
      "needs_background": "light"
     },
     "output_type": "display_data"
    }
   ],
   "source": [
    "# TYPE 1: Sp. Atk VS Sp. Def:\n",
    "sys.lmplot(x=\"Sp. Atk\", \n",
    "           y=\"Sp. Def\", \n",
    "           data=pk,\n",
    "           hue='Type 1',\n",
    "           logistic=True)"
   ]
  },
  {
   "cell_type": "markdown",
   "id": "67a7f927",
   "metadata": {},
   "source": [
    "### In type 1,\n",
    "### Almost all pokemons are trained in sp. attack and sp. defense.\n",
    "### Outliers in this explains, few are highly trained in sp.def and sp. attack."
   ]
  },
  {
   "cell_type": "code",
   "execution_count": 41,
   "id": "836418da",
   "metadata": {},
   "outputs": [
    {
     "name": "stderr",
     "output_type": "stream",
     "text": [
      "C:\\Users\\aditi\\anaconda_7june\\lib\\site-packages\\statsmodels\\genmod\\families\\links.py:188: RuntimeWarning: overflow encountered in exp\n",
      "  t = np.exp(-z)\n",
      "C:\\Users\\aditi\\anaconda_7june\\lib\\site-packages\\statsmodels\\genmod\\families\\links.py:188: RuntimeWarning: overflow encountered in exp\n",
      "  t = np.exp(-z)\n",
      "C:\\Users\\aditi\\anaconda_7june\\lib\\site-packages\\statsmodels\\genmod\\families\\links.py:188: RuntimeWarning: overflow encountered in exp\n",
      "  t = np.exp(-z)\n",
      "C:\\Users\\aditi\\anaconda_7june\\lib\\site-packages\\statsmodels\\genmod\\families\\links.py:188: RuntimeWarning: overflow encountered in exp\n",
      "  t = np.exp(-z)\n",
      "C:\\Users\\aditi\\anaconda_7june\\lib\\site-packages\\statsmodels\\genmod\\families\\links.py:188: RuntimeWarning: overflow encountered in exp\n",
      "  t = np.exp(-z)\n"
     ]
    },
    {
     "data": {
      "text/plain": [
       "<seaborn.axisgrid.FacetGrid at 0x1a81efa9df0>"
      ]
     },
     "execution_count": 41,
     "metadata": {},
     "output_type": "execute_result"
    },
    {
     "data": {
      "image/png": "[encoded data removed]",
      "text/plain": [
       "<Figure size 436.125x360 with 1 Axes>"
      ]
     },
     "metadata": {
      "needs_background": "light"
     },
     "output_type": "display_data"
    }
   ],
   "source": [
    "#TYPE 2: ATTACK VS DEFENCE:\n",
    "sys.lmplot(x=\"Attack\", \n",
    "           y=\"Defense\", \n",
    "           data=pk,\n",
    "           hue='Type 2',\n",
    "           logistic=True)"
   ]
  },
  {
   "cell_type": "markdown",
   "id": "5102f7a2",
   "metadata": {},
   "source": [
    "### In type 2,\n",
    "### Almost all pokemons are trained in attack and defense.\n",
    "### Outliers in this explains, few are highly defensive and attacking pokemon."
   ]
  },
  {
   "cell_type": "code",
   "execution_count": 42,
   "id": "1d747037",
   "metadata": {},
   "outputs": [
    {
     "name": "stderr",
     "output_type": "stream",
     "text": [
      "C:\\Users\\aditi\\anaconda_7june\\lib\\site-packages\\statsmodels\\genmod\\families\\links.py:188: RuntimeWarning: overflow encountered in exp\n",
      "  t = np.exp(-z)\n",
      "C:\\Users\\aditi\\anaconda_7june\\lib\\site-packages\\statsmodels\\genmod\\families\\links.py:188: RuntimeWarning: overflow encountered in exp\n",
      "  t = np.exp(-z)\n"
     ]
    },
    {
     "data": {
      "text/plain": [
       "<seaborn.axisgrid.FacetGrid at 0x1a81efe86d0>"
      ]
     },
     "execution_count": 42,
     "metadata": {},
     "output_type": "execute_result"
    },
    {
     "data": {
      "image/png": "[encoded data removed]",
      "text/plain": [
       "<Figure size 436.125x360 with 1 Axes>"
      ]
     },
     "metadata": {
      "needs_background": "light"
     },
     "output_type": "display_data"
    }
   ],
   "source": [
    "# TYPE 2: Sp. Atk VS Sp. Def:\n",
    "sys.lmplot(x=\"Sp. Atk\", \n",
    "           y=\"Sp. Def\", \n",
    "           data=pk,\n",
    "           hue='Type 2',\n",
    "           logistic=True)"
   ]
  },
  {
   "cell_type": "markdown",
   "id": "e2c23238",
   "metadata": {},
   "source": [
    "### In type 2,\n",
    "### Almost all pokemons are trained in sp. attack and sp. defense.\n",
    "### Outliers in this explains, few are highly trained in sp.def and sp. attack."
   ]
  },
  {
   "cell_type": "markdown",
   "id": "03d40532",
   "metadata": {},
   "source": [
    "\n",
    "### \n",
    "\n",
    "\n",
    "### CENTRAL TENDENCY:"
   ]
  },
  {
   "cell_type": "code",
   "execution_count": 43,
   "id": "f058bd83",
   "metadata": {},
   "outputs": [
    {
     "data": {
      "text/plain": [
       "#             362\n",
       "Total         435\n",
       "HP             69\n",
       "Attack         79\n",
       "Defense        73\n",
       "Sp. Atk        72\n",
       "Sp. Def        71\n",
       "Speed          68\n",
       "Generation      3\n",
       "Legendary       0\n",
       "dtype: int32"
      ]
     },
     "execution_count": 43,
     "metadata": {},
     "output_type": "execute_result"
    }
   ],
   "source": [
    "#mean\n",
    "pk.mean().astype(int)"
   ]
  },
  {
   "cell_type": "markdown",
   "id": "ebed9b76",
   "metadata": {},
   "source": [
    "### The mean of HP is 69.\n",
    "### The mean of Defence is 73.\n",
    "### The mean of Attack is 79.\n",
    "### The mean of Special Defence is 72.\n",
    "### The mean of Special Attack is 71. \n",
    "### The mean of speed is 68."
   ]
  },
  {
   "cell_type": "code",
   "execution_count": 44,
   "id": "5cf7e6a3",
   "metadata": {},
   "outputs": [
    {
     "data": {
      "text/plain": [
       "#             364\n",
       "Total         450\n",
       "HP             65\n",
       "Attack         75\n",
       "Defense        70\n",
       "Sp. Atk        65\n",
       "Sp. Def        70\n",
       "Speed          65\n",
       "Generation      3\n",
       "Legendary       0\n",
       "dtype: int32"
      ]
     },
     "execution_count": 44,
     "metadata": {},
     "output_type": "execute_result"
    }
   ],
   "source": [
    "#median\n",
    "pk.median().astype(int)"
   ]
  },
  {
   "cell_type": "markdown",
   "id": "c1d3ef08",
   "metadata": {},
   "source": [
    "### The median of HP is 65. \n",
    "### The median of Attack is 75.\n",
    "### The median of Defence is 70.\n",
    "### The median of Special Attack is 65.\n",
    "### The median of Special Defence is 70.\n",
    "### The median of speed is 65."
   ]
  },
  {
   "cell_type": "markdown",
   "id": "c1e70f9b",
   "metadata": {},
   "source": [
    "### \n",
    "\n",
    "\n",
    "### MEASURES OF SPREAD"
   ]
  },
  {
   "cell_type": "code",
   "execution_count": 45,
   "id": "00d33c40",
   "metadata": {},
   "outputs": [
    {
     "data": {
      "text/plain": [
       "#             43407\n",
       "Total         14391\n",
       "HP              652\n",
       "Attack         1053\n",
       "Defense         972\n",
       "Sp. Atk        1070\n",
       "Sp. Def         774\n",
       "Speed           844\n",
       "Generation        2\n",
       "Legendary         0\n",
       "dtype: int32"
      ]
     },
     "execution_count": 45,
     "metadata": {},
     "output_type": "execute_result"
    }
   ],
   "source": [
    "#variance\n",
    "pk.var().astype(int)"
   ]
  },
  {
   "cell_type": "markdown",
   "id": "bb6f1ce0",
   "metadata": {},
   "source": [
    "### The variation of HP is 652. \n",
    "### The variation of Attack is 1053. \n",
    "### The variation of Defence is 972. \n",
    "### The variation of Special Attack is 1070.\n",
    "### The variation of Special Defence is 774.  \n",
    "### The variation of speed is 844."
   ]
  },
  {
   "cell_type": "code",
   "execution_count": 46,
   "id": "9b398d80",
   "metadata": {},
   "outputs": [
    {
     "data": {
      "text/plain": [
       "#             208\n",
       "Total         119\n",
       "HP             25\n",
       "Attack         32\n",
       "Defense        31\n",
       "Sp. Atk        32\n",
       "Sp. Def        27\n",
       "Speed          29\n",
       "Generation      1\n",
       "Legendary       0\n",
       "dtype: int32"
      ]
     },
     "execution_count": 46,
     "metadata": {},
     "output_type": "execute_result"
    }
   ],
   "source": [
    "#standard deviation\n",
    "pk.std().astype(int)"
   ]
  },
  {
   "cell_type": "markdown",
   "id": "599b8594",
   "metadata": {},
   "source": [
    "### From mean, HP is deviated by 25  \n",
    "### From mean, Attack is deviated by 32. \n",
    "### From mean, Defence is deviated by 31. \n",
    "### From mean, Special Attack is deviated by 32.\n",
    "### From mean, Special Defence is deviated by 27.  \n",
    "### From mean, speed is deviated by 29."
   ]
  },
  {
   "cell_type": "code",
   "execution_count": 47,
   "id": "2bc045cf",
   "metadata": {},
   "outputs": [
    {
     "data": {
      "text/html": [
       "<div>\n",
       "<style scoped>\n",
       "    .dataframe tbody tr th:only-of-type {\n",
       "        vertical-align: middle;\n",
       "    }\n",
       "\n",
       "    .dataframe tbody tr th {\n",
       "        vertical-align: top;\n",
       "    }\n",
       "\n",
       "    .dataframe thead th {\n",
       "        text-align: right;\n",
       "    }\n",
       "</style>\n",
       "<table border=\"1\" class=\"dataframe\">\n",
       "  <thead>\n",
       "    <tr style=\"text-align: right;\">\n",
       "      <th></th>\n",
       "      <th>#</th>\n",
       "      <th>Total</th>\n",
       "      <th>HP</th>\n",
       "      <th>Attack</th>\n",
       "      <th>Defense</th>\n",
       "      <th>Sp. Atk</th>\n",
       "      <th>Sp. Def</th>\n",
       "      <th>Speed</th>\n",
       "      <th>Generation</th>\n",
       "    </tr>\n",
       "  </thead>\n",
       "  <tbody>\n",
       "    <tr>\n",
       "      <th>count</th>\n",
       "      <td>800</td>\n",
       "      <td>800</td>\n",
       "      <td>800</td>\n",
       "      <td>800</td>\n",
       "      <td>800</td>\n",
       "      <td>800</td>\n",
       "      <td>800</td>\n",
       "      <td>800</td>\n",
       "      <td>800</td>\n",
       "    </tr>\n",
       "    <tr>\n",
       "      <th>mean</th>\n",
       "      <td>362</td>\n",
       "      <td>435</td>\n",
       "      <td>69</td>\n",
       "      <td>79</td>\n",
       "      <td>73</td>\n",
       "      <td>72</td>\n",
       "      <td>71</td>\n",
       "      <td>68</td>\n",
       "      <td>3</td>\n",
       "    </tr>\n",
       "    <tr>\n",
       "      <th>std</th>\n",
       "      <td>208</td>\n",
       "      <td>119</td>\n",
       "      <td>25</td>\n",
       "      <td>32</td>\n",
       "      <td>31</td>\n",
       "      <td>32</td>\n",
       "      <td>27</td>\n",
       "      <td>29</td>\n",
       "      <td>1</td>\n",
       "    </tr>\n",
       "    <tr>\n",
       "      <th>min</th>\n",
       "      <td>1</td>\n",
       "      <td>180</td>\n",
       "      <td>1</td>\n",
       "      <td>5</td>\n",
       "      <td>5</td>\n",
       "      <td>10</td>\n",
       "      <td>20</td>\n",
       "      <td>5</td>\n",
       "      <td>1</td>\n",
       "    </tr>\n",
       "    <tr>\n",
       "      <th>25%</th>\n",
       "      <td>184</td>\n",
       "      <td>330</td>\n",
       "      <td>50</td>\n",
       "      <td>55</td>\n",
       "      <td>50</td>\n",
       "      <td>49</td>\n",
       "      <td>50</td>\n",
       "      <td>45</td>\n",
       "      <td>2</td>\n",
       "    </tr>\n",
       "    <tr>\n",
       "      <th>50%</th>\n",
       "      <td>364</td>\n",
       "      <td>450</td>\n",
       "      <td>65</td>\n",
       "      <td>75</td>\n",
       "      <td>70</td>\n",
       "      <td>65</td>\n",
       "      <td>70</td>\n",
       "      <td>65</td>\n",
       "      <td>3</td>\n",
       "    </tr>\n",
       "    <tr>\n",
       "      <th>75%</th>\n",
       "      <td>539</td>\n",
       "      <td>515</td>\n",
       "      <td>80</td>\n",
       "      <td>100</td>\n",
       "      <td>90</td>\n",
       "      <td>95</td>\n",
       "      <td>90</td>\n",
       "      <td>90</td>\n",
       "      <td>5</td>\n",
       "    </tr>\n",
       "    <tr>\n",
       "      <th>max</th>\n",
       "      <td>721</td>\n",
       "      <td>780</td>\n",
       "      <td>255</td>\n",
       "      <td>190</td>\n",
       "      <td>230</td>\n",
       "      <td>194</td>\n",
       "      <td>230</td>\n",
       "      <td>180</td>\n",
       "      <td>6</td>\n",
       "    </tr>\n",
       "  </tbody>\n",
       "</table>\n",
       "</div>"
      ],
      "text/plain": [
       "         #  Total   HP  Attack  Defense  Sp. Atk  Sp. Def  Speed  Generation\n",
       "count  800    800  800     800      800      800      800    800         800\n",
       "mean   362    435   69      79       73       72       71     68           3\n",
       "std    208    119   25      32       31       32       27     29           1\n",
       "min      1    180    1       5        5       10       20      5           1\n",
       "25%    184    330   50      55       50       49       50     45           2\n",
       "50%    364    450   65      75       70       65       70     65           3\n",
       "75%    539    515   80     100       90       95       90     90           5\n",
       "max    721    780  255     190      230      194      230    180           6"
      ]
     },
     "execution_count": 47,
     "metadata": {},
     "output_type": "execute_result"
    }
   ],
   "source": [
    "#describe:\n",
    "pk.describe().astype(int)"
   ]
  },
  {
   "cell_type": "markdown",
   "id": "c1498547",
   "metadata": {},
   "source": [
    "### Quantiles:"
   ]
  },
  {
   "cell_type": "markdown",
   "id": "6444ee11",
   "metadata": {},
   "source": [
    "### TOTAL:"
   ]
  },
  {
   "cell_type": "code",
   "execution_count": 48,
   "id": "7804e47b",
   "metadata": {},
   "outputs": [
    {
     "data": {
      "text/plain": [
       "330.0"
      ]
     },
     "execution_count": 48,
     "metadata": {},
     "output_type": "execute_result"
    }
   ],
   "source": [
    "qt1=pk['Total'].quantile(0.25)\n",
    "qt1"
   ]
  },
  {
   "cell_type": "code",
   "execution_count": 49,
   "id": "87d9e7ea",
   "metadata": {},
   "outputs": [
    {
     "data": {
      "text/plain": [
       "450.0"
      ]
     },
     "execution_count": 49,
     "metadata": {},
     "output_type": "execute_result"
    }
   ],
   "source": [
    "qt2=pk['Total'].quantile(0.50)\n",
    "qt2"
   ]
  },
  {
   "cell_type": "code",
   "execution_count": 50,
   "id": "1d186dfa",
   "metadata": {},
   "outputs": [
    {
     "data": {
      "text/plain": [
       "515.0"
      ]
     },
     "execution_count": 50,
     "metadata": {},
     "output_type": "execute_result"
    }
   ],
   "source": [
    "qt3=pk['Total'].quantile(0.75)\n",
    "qt3"
   ]
  },
  {
   "cell_type": "code",
   "execution_count": 51,
   "id": "8fe55d47",
   "metadata": {},
   "outputs": [
    {
     "data": {
      "text/plain": [
       "185.0"
      ]
     },
     "execution_count": 51,
     "metadata": {},
     "output_type": "execute_result"
    }
   ],
   "source": [
    "#inter=quantile region:\n",
    "IQR_T= qt3-qt1\n",
    "IQR_T"
   ]
  },
  {
   "cell_type": "code",
   "execution_count": 52,
   "id": "af93e6b8",
   "metadata": {},
   "outputs": [
    {
     "data": {
      "text/plain": [
       "52.5"
      ]
     },
     "execution_count": 52,
     "metadata": {},
     "output_type": "execute_result"
    }
   ],
   "source": [
    "lbt = qt1-1.5*IQR_T\n",
    "lbt"
   ]
  },
  {
   "cell_type": "code",
   "execution_count": 53,
   "id": "7a8ee6d5",
   "metadata": {},
   "outputs": [
    {
     "data": {
      "text/plain": [
       "792.5"
      ]
     },
     "execution_count": 53,
     "metadata": {},
     "output_type": "execute_result"
    }
   ],
   "source": [
    "ubt = qt3+1.5*IQR_T\n",
    "ubt"
   ]
  },
  {
   "cell_type": "code",
   "execution_count": 54,
   "id": "fb842d60",
   "metadata": {},
   "outputs": [
    {
     "data": {
      "image/png": "[encoded data removed]",
      "text/plain": [
       "<Figure size 432x288 with 1 Axes>"
      ]
     },
     "metadata": {
      "needs_background": "light"
     },
     "output_type": "display_data"
    }
   ],
   "source": [
    "plt.boxplot(pk['Total']);"
   ]
  },
  {
   "cell_type": "markdown",
   "id": "89684295",
   "metadata": {},
   "source": [
    "### NO OUTLIERS ARE PRESENT"
   ]
  },
  {
   "cell_type": "code",
   "execution_count": 55,
   "id": "a4897eaa",
   "metadata": {},
   "outputs": [
    {
     "data": {
      "text/plain": [
       "0.1525299233953993"
      ]
     },
     "execution_count": 55,
     "metadata": {},
     "output_type": "execute_result"
    }
   ],
   "source": [
    "pk['Total'].skew()"
   ]
  },
  {
   "cell_type": "markdown",
   "id": "66f89a58",
   "metadata": {},
   "source": [
    "### total is fairly symmetrical"
   ]
  },
  {
   "cell_type": "code",
   "execution_count": 56,
   "id": "aa83d1b3",
   "metadata": {},
   "outputs": [
    {
     "data": {
      "text/plain": [
       "-0.5074607103228463"
      ]
     },
     "execution_count": 56,
     "metadata": {},
     "output_type": "execute_result"
    }
   ],
   "source": [
    "pk['Total'].kurt()"
   ]
  },
  {
   "cell_type": "markdown",
   "id": "09115e2f",
   "metadata": {},
   "source": [
    "### kurtosis is negative. hence curve maybe flat"
   ]
  },
  {
   "cell_type": "code",
   "execution_count": 57,
   "id": "89f4342d",
   "metadata": {},
   "outputs": [
    {
     "data": {
      "text/plain": [
       "<AxesSubplot:ylabel='Frequency'>"
      ]
     },
     "execution_count": 57,
     "metadata": {},
     "output_type": "execute_result"
    },
    {
     "data": {
      "image/png": "[encoded data removed]",
      "text/plain": [
       "<Figure size 432x288 with 1 Axes>"
      ]
     },
     "metadata": {
      "needs_background": "light"
     },
     "output_type": "display_data"
    }
   ],
   "source": [
    "pk['Total'].plot(kind='hist')"
   ]
  },
  {
   "cell_type": "code",
   "execution_count": 58,
   "id": "9d509ada",
   "metadata": {},
   "outputs": [
    {
     "data": {
      "text/plain": [
       "<AxesSubplot:ylabel='Density'>"
      ]
     },
     "execution_count": 58,
     "metadata": {},
     "output_type": "execute_result"
    },
    {
     "data": {
      "image/png": "[encoded data removed]",
      "text/plain": [
       "<Figure size 432x288 with 1 Axes>"
      ]
     },
     "metadata": {
      "needs_background": "light"
     },
     "output_type": "display_data"
    }
   ],
   "source": [
    "pk['Total'].plot(kind='kde')"
   ]
  },
  {
   "cell_type": "markdown",
   "id": "1709a899",
   "metadata": {},
   "source": [
    "### TOTAL is platykurtic in nature."
   ]
  },
  {
   "cell_type": "markdown",
   "id": "60d5ad19",
   "metadata": {},
   "source": [
    "### \n",
    "\n",
    "### HP"
   ]
  },
  {
   "cell_type": "code",
   "execution_count": 59,
   "id": "c73e7ed4",
   "metadata": {},
   "outputs": [
    {
     "data": {
      "text/plain": [
       "50.0"
      ]
     },
     "execution_count": 59,
     "metadata": {},
     "output_type": "execute_result"
    }
   ],
   "source": [
    "qh1=pk['HP'].quantile(0.25)\n",
    "qh1"
   ]
  },
  {
   "cell_type": "code",
   "execution_count": 60,
   "id": "0778d90d",
   "metadata": {},
   "outputs": [
    {
     "data": {
      "text/plain": [
       "65.0"
      ]
     },
     "execution_count": 60,
     "metadata": {},
     "output_type": "execute_result"
    }
   ],
   "source": [
    "qh2=pk['HP'].quantile(0.50)\n",
    "qh2"
   ]
  },
  {
   "cell_type": "code",
   "execution_count": 61,
   "id": "4951bd06",
   "metadata": {},
   "outputs": [
    {
     "data": {
      "text/plain": [
       "80.0"
      ]
     },
     "execution_count": 61,
     "metadata": {},
     "output_type": "execute_result"
    }
   ],
   "source": [
    "qh3=pk['HP'].quantile(0.75)\n",
    "qh3"
   ]
  },
  {
   "cell_type": "code",
   "execution_count": 62,
   "id": "cc1039e1",
   "metadata": {},
   "outputs": [
    {
     "data": {
      "text/plain": [
       "30.0"
      ]
     },
     "execution_count": 62,
     "metadata": {},
     "output_type": "execute_result"
    }
   ],
   "source": [
    "#inter=quantile region:\n",
    "IQR_H=qh3-qh1\n",
    "IQR_H"
   ]
  },
  {
   "cell_type": "code",
   "execution_count": 63,
   "id": "e9d8349a",
   "metadata": {},
   "outputs": [
    {
     "data": {
      "text/plain": [
       "5.0"
      ]
     },
     "execution_count": 63,
     "metadata": {},
     "output_type": "execute_result"
    }
   ],
   "source": [
    "lbh = qh1-1.5*IQR_H\n",
    "lbh"
   ]
  },
  {
   "cell_type": "code",
   "execution_count": 64,
   "id": "00f4135f",
   "metadata": {},
   "outputs": [
    {
     "data": {
      "text/plain": [
       "125.0"
      ]
     },
     "execution_count": 64,
     "metadata": {},
     "output_type": "execute_result"
    }
   ],
   "source": [
    "ubh = qh3+1.5*IQR_H\n",
    "ubh"
   ]
  },
  {
   "cell_type": "code",
   "execution_count": 65,
   "id": "b10b883c",
   "metadata": {},
   "outputs": [
    {
     "data": {
      "image/png": "[encoded data removed]",
      "text/plain": [
       "<Figure size 432x288 with 1 Axes>"
      ]
     },
     "metadata": {
      "needs_background": "light"
     },
     "output_type": "display_data"
    }
   ],
   "source": [
    "plt.boxplot(pk['HP']);"
   ]
  },
  {
   "cell_type": "markdown",
   "id": "5d71498e",
   "metadata": {},
   "source": [
    "### HEAVY OUTLIERS ARE PRESENT"
   ]
  },
  {
   "cell_type": "code",
   "execution_count": 66,
   "id": "916a9557",
   "metadata": {},
   "outputs": [
    {
     "data": {
      "text/plain": [
       "1.5682243758418617"
      ]
     },
     "execution_count": 66,
     "metadata": {},
     "output_type": "execute_result"
    }
   ],
   "source": [
    "pk['HP'].skew()"
   ]
  },
  {
   "cell_type": "markdown",
   "id": "1dadac0e",
   "metadata": {},
   "source": [
    "### HP is highly skewed"
   ]
  },
  {
   "cell_type": "code",
   "execution_count": 67,
   "id": "584dec97",
   "metadata": {},
   "outputs": [
    {
     "data": {
      "text/plain": [
       "7.232078374375156"
      ]
     },
     "execution_count": 67,
     "metadata": {},
     "output_type": "execute_result"
    }
   ],
   "source": [
    "pk['HP'].kurt()"
   ]
  },
  {
   "cell_type": "markdown",
   "id": "5c0f4587",
   "metadata": {},
   "source": [
    "### kurtosis is positive and greater than 3. Hence heavy outliers are present and peak is pointy."
   ]
  },
  {
   "cell_type": "code",
   "execution_count": 68,
   "id": "2379c299",
   "metadata": {},
   "outputs": [
    {
     "data": {
      "text/plain": [
       "<AxesSubplot:ylabel='Frequency'>"
      ]
     },
     "execution_count": 68,
     "metadata": {},
     "output_type": "execute_result"
    },
    {
     "data": {
      "image/png": "[encoded data removed]",
      "text/plain": [
       "<Figure size 432x288 with 1 Axes>"
      ]
     },
     "metadata": {
      "needs_background": "light"
     },
     "output_type": "display_data"
    }
   ],
   "source": [
    "pk['HP'].plot(kind='hist')"
   ]
  },
  {
   "cell_type": "code",
   "execution_count": 69,
   "id": "2cfe92eb",
   "metadata": {},
   "outputs": [
    {
     "data": {
      "text/plain": [
       "<AxesSubplot:ylabel='Density'>"
      ]
     },
     "execution_count": 69,
     "metadata": {},
     "output_type": "execute_result"
    },
    {
     "data": {
      "image/png": "[encoded data removed]",
      "text/plain": [
       "<Figure size 432x288 with 1 Axes>"
      ]
     },
     "metadata": {
      "needs_background": "light"
     },
     "output_type": "display_data"
    }
   ],
   "source": [
    "pk['HP'].plot(kind='kde')"
   ]
  },
  {
   "cell_type": "markdown",
   "id": "0e02390e",
   "metadata": {},
   "source": [
    "### HP IS PLATYKURTIC IN NATURE."
   ]
  },
  {
   "cell_type": "markdown",
   "id": "42a22c71",
   "metadata": {},
   "source": [
    "### \n",
    "### ATTACK"
   ]
  },
  {
   "cell_type": "code",
   "execution_count": 70,
   "id": "efb1f42a",
   "metadata": {},
   "outputs": [
    {
     "data": {
      "text/plain": [
       "55.0"
      ]
     },
     "execution_count": 70,
     "metadata": {},
     "output_type": "execute_result"
    }
   ],
   "source": [
    "qa1=pk['Attack'].quantile(0.25)\n",
    "qa1"
   ]
  },
  {
   "cell_type": "code",
   "execution_count": 71,
   "id": "65784cfe",
   "metadata": {},
   "outputs": [
    {
     "data": {
      "text/plain": [
       "75.0"
      ]
     },
     "execution_count": 71,
     "metadata": {},
     "output_type": "execute_result"
    }
   ],
   "source": [
    "qa2=pk['Attack'].quantile(0.50) \n",
    "qa2"
   ]
  },
  {
   "cell_type": "code",
   "execution_count": 72,
   "id": "bc7950f0",
   "metadata": {},
   "outputs": [
    {
     "data": {
      "text/plain": [
       "100.0"
      ]
     },
     "execution_count": 72,
     "metadata": {},
     "output_type": "execute_result"
    }
   ],
   "source": [
    "qa3=pk['Attack'].quantile(0.75)\n",
    "qa3"
   ]
  },
  {
   "cell_type": "code",
   "execution_count": 73,
   "id": "69f0eff6",
   "metadata": {},
   "outputs": [
    {
     "data": {
      "text/plain": [
       "45.0"
      ]
     },
     "execution_count": 73,
     "metadata": {},
     "output_type": "execute_result"
    }
   ],
   "source": [
    "#inter=quantile region:\n",
    "IQR_A=qa3-qa1\n",
    "IQR_A"
   ]
  },
  {
   "cell_type": "code",
   "execution_count": 74,
   "id": "51762969",
   "metadata": {},
   "outputs": [
    {
     "data": {
      "text/plain": [
       "-12.5"
      ]
     },
     "execution_count": 74,
     "metadata": {},
     "output_type": "execute_result"
    }
   ],
   "source": [
    "lba = qa1-1.5*IQR_A\n",
    "lba"
   ]
  },
  {
   "cell_type": "code",
   "execution_count": 75,
   "id": "17c8e54b",
   "metadata": {},
   "outputs": [
    {
     "data": {
      "text/plain": [
       "167.5"
      ]
     },
     "execution_count": 75,
     "metadata": {},
     "output_type": "execute_result"
    }
   ],
   "source": [
    "uba = qa3+1.5*IQR_A\n",
    "uba"
   ]
  },
  {
   "cell_type": "code",
   "execution_count": 76,
   "id": "4a399a84",
   "metadata": {},
   "outputs": [
    {
     "data": {
      "image/png": "[encoded data removed]",
      "text/plain": [
       "<Figure size 432x288 with 1 Axes>"
      ]
     },
     "metadata": {
      "needs_background": "light"
     },
     "output_type": "display_data"
    }
   ],
   "source": [
    "plt.boxplot(pk['Attack']);"
   ]
  },
  {
   "cell_type": "markdown",
   "id": "52a28f91",
   "metadata": {},
   "source": [
    "### OUTLIERS ARE PRESENT"
   ]
  },
  {
   "cell_type": "code",
   "execution_count": 77,
   "id": "ad482cc3",
   "metadata": {},
   "outputs": [
    {
     "data": {
      "text/plain": [
       "0.5516137480269772"
      ]
     },
     "execution_count": 77,
     "metadata": {},
     "output_type": "execute_result"
    }
   ],
   "source": [
    "pk['Attack'].skew()"
   ]
  },
  {
   "cell_type": "markdown",
   "id": "a943d77e",
   "metadata": {},
   "source": [
    "### Attack is moderately skewed"
   ]
  },
  {
   "cell_type": "code",
   "execution_count": 78,
   "id": "018fb701",
   "metadata": {},
   "outputs": [
    {
     "data": {
      "text/plain": [
       "0.1697173149230906"
      ]
     },
     "execution_count": 78,
     "metadata": {},
     "output_type": "execute_result"
    }
   ],
   "source": [
    "pk['Attack'].kurt()"
   ]
  },
  {
   "cell_type": "markdown",
   "id": "eebe58bf",
   "metadata": {},
   "source": [
    "### kurtosis is positive and less than 3. hence low outliers are present and peak is pointy"
   ]
  },
  {
   "cell_type": "code",
   "execution_count": 79,
   "id": "3016fc0b",
   "metadata": {},
   "outputs": [
    {
     "data": {
      "text/plain": [
       "<AxesSubplot:ylabel='Frequency'>"
      ]
     },
     "execution_count": 79,
     "metadata": {},
     "output_type": "execute_result"
    },
    {
     "data": {
      "image/png": "[encoded data removed]",
      "text/plain": [
       "<Figure size 432x288 with 1 Axes>"
      ]
     },
     "metadata": {
      "needs_background": "light"
     },
     "output_type": "display_data"
    }
   ],
   "source": [
    "pk['Attack'].plot(kind='hist')"
   ]
  },
  {
   "cell_type": "code",
   "execution_count": 80,
   "id": "549cdc2c",
   "metadata": {},
   "outputs": [
    {
     "data": {
      "text/plain": [
       "<AxesSubplot:ylabel='Density'>"
      ]
     },
     "execution_count": 80,
     "metadata": {},
     "output_type": "execute_result"
    },
    {
     "data": {
      "image/png": "[encoded data removed]",
      "text/plain": [
       "<Figure size 432x288 with 1 Axes>"
      ]
     },
     "metadata": {
      "needs_background": "light"
     },
     "output_type": "display_data"
    }
   ],
   "source": [
    "pk['Attack'].plot(kind='kde')"
   ]
  },
  {
   "cell_type": "markdown",
   "id": "9ad8dd06",
   "metadata": {},
   "source": [
    "### ATTACK IS PLATYKURTIC IN NATURE."
   ]
  },
  {
   "cell_type": "markdown",
   "id": "e3e81cc4",
   "metadata": {},
   "source": [
    "### \n",
    "\n",
    "\n",
    "### DEFENSE"
   ]
  },
  {
   "cell_type": "code",
   "execution_count": 81,
   "id": "bd062ad3",
   "metadata": {},
   "outputs": [
    {
     "data": {
      "text/plain": [
       "50.0"
      ]
     },
     "execution_count": 81,
     "metadata": {},
     "output_type": "execute_result"
    }
   ],
   "source": [
    "qd1=pk['Defense'].quantile(0.25)\n",
    "qd1"
   ]
  },
  {
   "cell_type": "code",
   "execution_count": 82,
   "id": "abc42d07",
   "metadata": {},
   "outputs": [
    {
     "data": {
      "text/plain": [
       "70.0"
      ]
     },
     "execution_count": 82,
     "metadata": {},
     "output_type": "execute_result"
    }
   ],
   "source": [
    "qd2=pk['Defense'].quantile(0.50)\n",
    "qd2"
   ]
  },
  {
   "cell_type": "code",
   "execution_count": 83,
   "id": "ad078f50",
   "metadata": {},
   "outputs": [
    {
     "data": {
      "text/plain": [
       "90.0"
      ]
     },
     "execution_count": 83,
     "metadata": {},
     "output_type": "execute_result"
    }
   ],
   "source": [
    "qd3=pk['Defense'].quantile(0.75)\n",
    "qd3"
   ]
  },
  {
   "cell_type": "code",
   "execution_count": 84,
   "id": "672562fb",
   "metadata": {},
   "outputs": [
    {
     "data": {
      "text/plain": [
       "40.0"
      ]
     },
     "execution_count": 84,
     "metadata": {},
     "output_type": "execute_result"
    }
   ],
   "source": [
    "#inter=quantile region:\n",
    "IQR_D= qd3-qd1\n",
    "IQR_D"
   ]
  },
  {
   "cell_type": "code",
   "execution_count": 85,
   "id": "f9c4dcdc",
   "metadata": {},
   "outputs": [
    {
     "data": {
      "text/plain": [
       "-10.0"
      ]
     },
     "execution_count": 85,
     "metadata": {},
     "output_type": "execute_result"
    }
   ],
   "source": [
    "lbd = qd1-1.5*IQR_D\n",
    "lbd"
   ]
  },
  {
   "cell_type": "code",
   "execution_count": 86,
   "id": "113df65d",
   "metadata": {},
   "outputs": [
    {
     "data": {
      "text/plain": [
       "150.0"
      ]
     },
     "execution_count": 86,
     "metadata": {},
     "output_type": "execute_result"
    }
   ],
   "source": [
    "ubd = qd3+1.5*IQR_D\n",
    "ubd"
   ]
  },
  {
   "cell_type": "code",
   "execution_count": 87,
   "id": "2d65431e",
   "metadata": {},
   "outputs": [
    {
     "data": {
      "image/png": "[encoded data removed]",
      "text/plain": [
       "<Figure size 432x288 with 1 Axes>"
      ]
     },
     "metadata": {
      "needs_background": "light"
     },
     "output_type": "display_data"
    }
   ],
   "source": [
    "plt.boxplot(pk['Defense']);"
   ]
  },
  {
   "cell_type": "markdown",
   "id": "5ba1d4c5",
   "metadata": {},
   "source": [
    "### OUTLIERS ARE PRESENT"
   ]
  },
  {
   "cell_type": "code",
   "execution_count": 88,
   "id": "7e243154",
   "metadata": {},
   "outputs": [
    {
     "data": {
      "text/plain": [
       "1.1559123029560856"
      ]
     },
     "execution_count": 88,
     "metadata": {},
     "output_type": "execute_result"
    }
   ],
   "source": [
    "pk['Defense'].skew()"
   ]
  },
  {
   "cell_type": "markdown",
   "id": "e7e20830",
   "metadata": {},
   "source": [
    "### Defense is highly skewed"
   ]
  },
  {
   "cell_type": "code",
   "execution_count": 89,
   "id": "9a6a048c",
   "metadata": {},
   "outputs": [
    {
     "data": {
      "text/plain": [
       "2.726260359939344"
      ]
     },
     "execution_count": 89,
     "metadata": {},
     "output_type": "execute_result"
    }
   ],
   "source": [
    "pk['Defense'].kurt()"
   ]
  },
  {
   "cell_type": "markdown",
   "id": "90712643",
   "metadata": {},
   "source": [
    "### Kurtosis is positive and less than 3. Hence peak is pointy and has lack of outliers."
   ]
  },
  {
   "cell_type": "code",
   "execution_count": 90,
   "id": "a75d7de1",
   "metadata": {},
   "outputs": [
    {
     "data": {
      "text/plain": [
       "<AxesSubplot:ylabel='Frequency'>"
      ]
     },
     "execution_count": 90,
     "metadata": {},
     "output_type": "execute_result"
    },
    {
     "data": {
      "image/png": "[encoded data removed]",
      "text/plain": [
       "<Figure size 432x288 with 1 Axes>"
      ]
     },
     "metadata": {
      "needs_background": "light"
     },
     "output_type": "display_data"
    }
   ],
   "source": [
    "pk['Defense'].plot(kind='hist')"
   ]
  },
  {
   "cell_type": "code",
   "execution_count": 91,
   "id": "22d10767",
   "metadata": {},
   "outputs": [
    {
     "data": {
      "text/plain": [
       "<AxesSubplot:ylabel='Density'>"
      ]
     },
     "execution_count": 91,
     "metadata": {},
     "output_type": "execute_result"
    },
    {
     "data": {
      "image/png": "[encoded data removed]",
      "text/plain": [
       "<Figure size 432x288 with 1 Axes>"
      ]
     },
     "metadata": {
      "needs_background": "light"
     },
     "output_type": "display_data"
    }
   ],
   "source": [
    "pk['Defense'].plot(kind='kde')"
   ]
  },
  {
   "cell_type": "markdown",
   "id": "0f0f6aaa",
   "metadata": {},
   "source": [
    "### DEFENSE IS PLATYKURTIC IN NATURE."
   ]
  },
  {
   "cell_type": "markdown",
   "id": "5eea807c",
   "metadata": {},
   "source": [
    "### \n",
    "\n",
    "### SP.ATK"
   ]
  },
  {
   "cell_type": "code",
   "execution_count": 92,
   "id": "83632153",
   "metadata": {},
   "outputs": [
    {
     "data": {
      "text/plain": [
       "49.75"
      ]
     },
     "execution_count": 92,
     "metadata": {},
     "output_type": "execute_result"
    }
   ],
   "source": [
    "qsa1=pk['Sp. Atk'].quantile(0.25)\n",
    "qsa1"
   ]
  },
  {
   "cell_type": "code",
   "execution_count": 93,
   "id": "2284e340",
   "metadata": {},
   "outputs": [
    {
     "data": {
      "text/plain": [
       "65.0"
      ]
     },
     "execution_count": 93,
     "metadata": {},
     "output_type": "execute_result"
    }
   ],
   "source": [
    "qsa2= pk['Sp. Atk'].quantile(0.50)\n",
    "qsa2"
   ]
  },
  {
   "cell_type": "code",
   "execution_count": 94,
   "id": "b9a44720",
   "metadata": {},
   "outputs": [
    {
     "data": {
      "text/plain": [
       "95.0"
      ]
     },
     "execution_count": 94,
     "metadata": {},
     "output_type": "execute_result"
    }
   ],
   "source": [
    "qsa3= pk['Sp. Atk'].quantile(0.75)\n",
    "qsa3"
   ]
  },
  {
   "cell_type": "code",
   "execution_count": 95,
   "id": "d0f4c6a6",
   "metadata": {},
   "outputs": [
    {
     "data": {
      "text/plain": [
       "45.25"
      ]
     },
     "execution_count": 95,
     "metadata": {},
     "output_type": "execute_result"
    }
   ],
   "source": [
    "#inter=quantile region:\n",
    "IQR_SA= qsa3-qsa1\n",
    "IQR_SA"
   ]
  },
  {
   "cell_type": "code",
   "execution_count": 96,
   "id": "94e9760c",
   "metadata": {},
   "outputs": [
    {
     "data": {
      "text/plain": [
       "-18.125"
      ]
     },
     "execution_count": 96,
     "metadata": {},
     "output_type": "execute_result"
    }
   ],
   "source": [
    "lbsa = qsa1-1.5*IQR_SA\n",
    "lbsa"
   ]
  },
  {
   "cell_type": "code",
   "execution_count": 97,
   "id": "938ffed0",
   "metadata": {},
   "outputs": [
    {
     "data": {
      "text/plain": [
       "162.875"
      ]
     },
     "execution_count": 97,
     "metadata": {},
     "output_type": "execute_result"
    }
   ],
   "source": [
    "ubsa = qsa3+1.5*IQR_SA\n",
    "ubsa"
   ]
  },
  {
   "cell_type": "code",
   "execution_count": 98,
   "id": "7a9a4428",
   "metadata": {},
   "outputs": [
    {
     "data": {
      "image/png": "[encoded data removed]",
      "text/plain": [
       "<Figure size 432x288 with 1 Axes>"
      ]
     },
     "metadata": {
      "needs_background": "light"
     },
     "output_type": "display_data"
    }
   ],
   "source": [
    "plt.boxplot(pk['Sp. Atk']);"
   ]
  },
  {
   "cell_type": "markdown",
   "id": "dff9d93f",
   "metadata": {},
   "source": [
    "### FEW OUTLIERS ARE PRESENT"
   ]
  },
  {
   "cell_type": "code",
   "execution_count": 99,
   "id": "769e9db6",
   "metadata": {},
   "outputs": [
    {
     "data": {
      "text/plain": [
       "0.7446624978300574"
      ]
     },
     "execution_count": 99,
     "metadata": {},
     "output_type": "execute_result"
    }
   ],
   "source": [
    "pk['Sp. Atk'].skew()"
   ]
  },
  {
   "cell_type": "markdown",
   "id": "fc312401",
   "metadata": {},
   "source": [
    "### Sp. Atk is slightly skewed"
   ]
  },
  {
   "cell_type": "code",
   "execution_count": 100,
   "id": "04f16e64",
   "metadata": {},
   "outputs": [
    {
     "data": {
      "text/plain": [
       "0.29789366073147416"
      ]
     },
     "execution_count": 100,
     "metadata": {},
     "output_type": "execute_result"
    }
   ],
   "source": [
    "pk['Sp. Atk'].kurt()"
   ]
  },
  {
   "cell_type": "markdown",
   "id": "b4653167",
   "metadata": {},
   "source": [
    "### Kurtosis is positive and approx to zero. hence lack of outliers and peak is pointy"
   ]
  },
  {
   "cell_type": "code",
   "execution_count": 101,
   "id": "a70e3f91",
   "metadata": {},
   "outputs": [
    {
     "data": {
      "text/plain": [
       "<AxesSubplot:ylabel='Frequency'>"
      ]
     },
     "execution_count": 101,
     "metadata": {},
     "output_type": "execute_result"
    },
    {
     "data": {
      "image/png": "[encoded data removed]",
      "text/plain": [
       "<Figure size 432x288 with 1 Axes>"
      ]
     },
     "metadata": {
      "needs_background": "light"
     },
     "output_type": "display_data"
    }
   ],
   "source": [
    "pk['Sp. Atk'].plot(kind='hist')"
   ]
  },
  {
   "cell_type": "code",
   "execution_count": 102,
   "id": "6fed42ab",
   "metadata": {},
   "outputs": [
    {
     "data": {
      "text/plain": [
       "<AxesSubplot:ylabel='Density'>"
      ]
     },
     "execution_count": 102,
     "metadata": {},
     "output_type": "execute_result"
    },
    {
     "data": {
      "image/png": "[encoded data removed]",
      "text/plain": [
       "<Figure size 432x288 with 1 Axes>"
      ]
     },
     "metadata": {
      "needs_background": "light"
     },
     "output_type": "display_data"
    }
   ],
   "source": [
    "pk['Sp. Atk'].plot(kind='kde')"
   ]
  },
  {
   "cell_type": "markdown",
   "id": "8c640725",
   "metadata": {},
   "source": [
    "### SP. ATK IS SLIGHTLY POINTY TO NORMAL DISTRIBUTION IN NATURE."
   ]
  },
  {
   "cell_type": "markdown",
   "id": "735c2d4b",
   "metadata": {},
   "source": [
    "### \n",
    "\n",
    "### SP.DEF"
   ]
  },
  {
   "cell_type": "code",
   "execution_count": 103,
   "id": "334a9b6e",
   "metadata": {},
   "outputs": [
    {
     "data": {
      "text/plain": [
       "50.0"
      ]
     },
     "execution_count": 103,
     "metadata": {},
     "output_type": "execute_result"
    }
   ],
   "source": [
    "qsd1=pk['Sp. Def'].quantile(0.25)\n",
    "qsd1"
   ]
  },
  {
   "cell_type": "code",
   "execution_count": 104,
   "id": "e795f8ff",
   "metadata": {},
   "outputs": [
    {
     "data": {
      "text/plain": [
       "70.0"
      ]
     },
     "execution_count": 104,
     "metadata": {},
     "output_type": "execute_result"
    }
   ],
   "source": [
    "qsd2=pk['Sp. Def'].quantile(0.50)\n",
    "qsd2"
   ]
  },
  {
   "cell_type": "code",
   "execution_count": 105,
   "id": "5c45e9af",
   "metadata": {},
   "outputs": [
    {
     "data": {
      "text/plain": [
       "90.0"
      ]
     },
     "execution_count": 105,
     "metadata": {},
     "output_type": "execute_result"
    }
   ],
   "source": [
    "qsd3=pk['Sp. Def'].quantile(0.75)\n",
    "qsd3"
   ]
  },
  {
   "cell_type": "code",
   "execution_count": 106,
   "id": "0e73eec6",
   "metadata": {},
   "outputs": [
    {
     "data": {
      "text/plain": [
       "40.0"
      ]
     },
     "execution_count": 106,
     "metadata": {},
     "output_type": "execute_result"
    }
   ],
   "source": [
    "#inter=quantile region:\n",
    "IQR_SD= qsd3-qsd1\n",
    "IQR_SD"
   ]
  },
  {
   "cell_type": "code",
   "execution_count": 107,
   "id": "43610250",
   "metadata": {},
   "outputs": [
    {
     "data": {
      "text/plain": [
       "270.0"
      ]
     },
     "execution_count": 107,
     "metadata": {},
     "output_type": "execute_result"
    }
   ],
   "source": [
    "lbsd = qt1-1.5*IQR_SD\n",
    "lbsd"
   ]
  },
  {
   "cell_type": "code",
   "execution_count": 108,
   "id": "fd4a017d",
   "metadata": {},
   "outputs": [
    {
     "data": {
      "text/plain": [
       "150.0"
      ]
     },
     "execution_count": 108,
     "metadata": {},
     "output_type": "execute_result"
    }
   ],
   "source": [
    "ubsd = qsd3+1.5*IQR_SD\n",
    "ubsd"
   ]
  },
  {
   "cell_type": "code",
   "execution_count": 109,
   "id": "e6f4b9d4",
   "metadata": {},
   "outputs": [
    {
     "data": {
      "image/png": "[encoded data removed]",
      "text/plain": [
       "<Figure size 432x288 with 1 Axes>"
      ]
     },
     "metadata": {
      "needs_background": "light"
     },
     "output_type": "display_data"
    }
   ],
   "source": [
    "plt.boxplot(pk['Sp. Def']);"
   ]
  },
  {
   "cell_type": "markdown",
   "id": "7a3051b7",
   "metadata": {},
   "source": [
    "### OUTLIERS ARE PRESENT"
   ]
  },
  {
   "cell_type": "code",
   "execution_count": 110,
   "id": "f8c4578f",
   "metadata": {},
   "outputs": [
    {
     "data": {
      "text/plain": [
       "0.8540186115468782"
      ]
     },
     "execution_count": 110,
     "metadata": {},
     "output_type": "execute_result"
    }
   ],
   "source": [
    "pk['Sp. Def'].skew()"
   ]
  },
  {
   "cell_type": "markdown",
   "id": "d33a4eeb",
   "metadata": {},
   "source": [
    "### Sp. def is moderately skewed"
   ]
  },
  {
   "cell_type": "code",
   "execution_count": 111,
   "id": "fbc94dd0",
   "metadata": {},
   "outputs": [
    {
     "data": {
      "text/plain": [
       "1.628394056784738"
      ]
     },
     "execution_count": 111,
     "metadata": {},
     "output_type": "execute_result"
    }
   ],
   "source": [
    "pk['Sp. Def'].kurt()"
   ]
  },
  {
   "cell_type": "markdown",
   "id": "833dc4fd",
   "metadata": {},
   "source": [
    "### Kurtosis is positive and less than 3. Hence peak is pointy and lack of outliers."
   ]
  },
  {
   "cell_type": "code",
   "execution_count": 112,
   "id": "71058fd2",
   "metadata": {},
   "outputs": [
    {
     "data": {
      "text/plain": [
       "<AxesSubplot:ylabel='Frequency'>"
      ]
     },
     "execution_count": 112,
     "metadata": {},
     "output_type": "execute_result"
    },
    {
     "data": {
      "image/png": "[encoded data removed]",
      "text/plain": [
       "<Figure size 432x288 with 1 Axes>"
      ]
     },
     "metadata": {
      "needs_background": "light"
     },
     "output_type": "display_data"
    }
   ],
   "source": [
    "pk['Sp. Def'].plot(kind='hist')"
   ]
  },
  {
   "cell_type": "code",
   "execution_count": 113,
   "id": "19af4790",
   "metadata": {},
   "outputs": [
    {
     "data": {
      "text/plain": [
       "<AxesSubplot:ylabel='Density'>"
      ]
     },
     "execution_count": 113,
     "metadata": {},
     "output_type": "execute_result"
    },
    {
     "data": {
      "image/png": "[encoded data removed]",
      "text/plain": [
       "<Figure size 432x288 with 1 Axes>"
      ]
     },
     "metadata": {
      "needs_background": "light"
     },
     "output_type": "display_data"
    }
   ],
   "source": [
    "pk['Sp. Def'].plot(kind='kde')"
   ]
  },
  {
   "cell_type": "markdown",
   "id": "6eec4d17",
   "metadata": {},
   "source": [
    "### SP. DEF IS PLATYKURTIC IN NATURE."
   ]
  },
  {
   "cell_type": "markdown",
   "id": "c9c97c40",
   "metadata": {},
   "source": [
    "### \n",
    "\n",
    "### SPEED"
   ]
  },
  {
   "cell_type": "code",
   "execution_count": 114,
   "id": "da701494",
   "metadata": {},
   "outputs": [
    {
     "data": {
      "text/plain": [
       "45.0"
      ]
     },
     "execution_count": 114,
     "metadata": {},
     "output_type": "execute_result"
    }
   ],
   "source": [
    "qs1=pk['Speed'].quantile(0.25)\n",
    "qs1"
   ]
  },
  {
   "cell_type": "code",
   "execution_count": 115,
   "id": "284dd5c8",
   "metadata": {},
   "outputs": [
    {
     "data": {
      "text/plain": [
       "65.0"
      ]
     },
     "execution_count": 115,
     "metadata": {},
     "output_type": "execute_result"
    }
   ],
   "source": [
    "qs2=pk['Speed'].quantile(0.50)\n",
    "qs2"
   ]
  },
  {
   "cell_type": "code",
   "execution_count": 116,
   "id": "129f2bbe",
   "metadata": {},
   "outputs": [
    {
     "data": {
      "text/plain": [
       "90.0"
      ]
     },
     "execution_count": 116,
     "metadata": {},
     "output_type": "execute_result"
    }
   ],
   "source": [
    "qs3= pk['Speed'].quantile(0.75)\n",
    "qs3"
   ]
  },
  {
   "cell_type": "code",
   "execution_count": 117,
   "id": "d1710009",
   "metadata": {},
   "outputs": [
    {
     "data": {
      "text/plain": [
       "45.0"
      ]
     },
     "execution_count": 117,
     "metadata": {},
     "output_type": "execute_result"
    }
   ],
   "source": [
    "#inter=quantile region:\n",
    "IQR_S=qs3-qs1\n",
    "IQR_S"
   ]
  },
  {
   "cell_type": "code",
   "execution_count": 118,
   "id": "28cf550d",
   "metadata": {},
   "outputs": [
    {
     "data": {
      "text/plain": [
       "262.5"
      ]
     },
     "execution_count": 118,
     "metadata": {},
     "output_type": "execute_result"
    }
   ],
   "source": [
    "lbs = qt1-1.5*IQR_S\n",
    "lbs"
   ]
  },
  {
   "cell_type": "code",
   "execution_count": 119,
   "id": "2da07d61",
   "metadata": {},
   "outputs": [
    {
     "data": {
      "text/plain": [
       "582.5"
      ]
     },
     "execution_count": 119,
     "metadata": {},
     "output_type": "execute_result"
    }
   ],
   "source": [
    "ubs = qt3+1.5*IQR_S\n",
    "ubs"
   ]
  },
  {
   "cell_type": "code",
   "execution_count": 120,
   "id": "f62913c7",
   "metadata": {},
   "outputs": [
    {
     "data": {
      "image/png": "[encoded data removed]",
      "text/plain": [
       "<Figure size 432x288 with 1 Axes>"
      ]
     },
     "metadata": {
      "needs_background": "light"
     },
     "output_type": "display_data"
    }
   ],
   "source": [
    "plt.boxplot(pk['Speed']);"
   ]
  },
  {
   "cell_type": "markdown",
   "id": "bac1c210",
   "metadata": {},
   "source": [
    "### OUTLIERS ARE PRESENT"
   ]
  },
  {
   "cell_type": "code",
   "execution_count": 121,
   "id": "9ff323c1",
   "metadata": {},
   "outputs": [
    {
     "data": {
      "text/plain": [
       "0.35793329506082994"
      ]
     },
     "execution_count": 121,
     "metadata": {},
     "output_type": "execute_result"
    }
   ],
   "source": [
    "pk['Speed'].skew()"
   ]
  },
  {
   "cell_type": "markdown",
   "id": "94e53ca3",
   "metadata": {},
   "source": [
    "### Speed is fairly skewed"
   ]
  },
  {
   "cell_type": "code",
   "execution_count": 122,
   "id": "3bd5a11c",
   "metadata": {},
   "outputs": [
    {
     "data": {
      "text/plain": [
       "-0.2364366728440488"
      ]
     },
     "execution_count": 122,
     "metadata": {},
     "output_type": "execute_result"
    }
   ],
   "source": [
    "pk['Speed'].kurt()"
   ]
  },
  {
   "cell_type": "markdown",
   "id": "a9df5b76",
   "metadata": {},
   "source": [
    "### Kurtosis is negative and less than 3. Hence peak is flat and has lack of outliers"
   ]
  },
  {
   "cell_type": "code",
   "execution_count": 123,
   "id": "0ff0efc8",
   "metadata": {},
   "outputs": [
    {
     "data": {
      "text/plain": [
       "<AxesSubplot:ylabel='Frequency'>"
      ]
     },
     "execution_count": 123,
     "metadata": {},
     "output_type": "execute_result"
    },
    {
     "data": {
      "image/png": "[encoded data removed]",
      "text/plain": [
       "<Figure size 432x288 with 1 Axes>"
      ]
     },
     "metadata": {
      "needs_background": "light"
     },
     "output_type": "display_data"
    }
   ],
   "source": [
    "pk['Speed'].plot(kind='hist')"
   ]
  },
  {
   "cell_type": "code",
   "execution_count": 124,
   "id": "ec63c7b3",
   "metadata": {},
   "outputs": [
    {
     "data": {
      "text/plain": [
       "<AxesSubplot:ylabel='Density'>"
      ]
     },
     "execution_count": 124,
     "metadata": {},
     "output_type": "execute_result"
    },
    {
     "data": {
      "image/png": "[encoded data removed]",
      "text/plain": [
       "<Figure size 432x288 with 1 Axes>"
      ]
     },
     "metadata": {
      "needs_background": "light"
     },
     "output_type": "display_data"
    }
   ],
   "source": [
    "pk['Speed'].plot(kind='kde')"
   ]
  },
  {
   "cell_type": "markdown",
   "id": "8e732934",
   "metadata": {},
   "source": [
    "### SPEED IS PLATYKURTIC IN NATURE."
   ]
  },
  {
   "cell_type": "markdown",
   "id": "4b06e8c9",
   "metadata": {},
   "source": [
    "### \n",
    "\n",
    "### GENERATION"
   ]
  },
  {
   "cell_type": "code",
   "execution_count": 125,
   "id": "f9b6e36f",
   "metadata": {},
   "outputs": [
    {
     "data": {
      "text/plain": [
       "2.0"
      ]
     },
     "execution_count": 125,
     "metadata": {},
     "output_type": "execute_result"
    }
   ],
   "source": [
    "qg1=pk['Generation'].quantile(0.25)\n",
    "qg1"
   ]
  },
  {
   "cell_type": "code",
   "execution_count": 126,
   "id": "c5dc17a7",
   "metadata": {},
   "outputs": [
    {
     "data": {
      "text/plain": [
       "3.0"
      ]
     },
     "execution_count": 126,
     "metadata": {},
     "output_type": "execute_result"
    }
   ],
   "source": [
    "qg2=pk['Generation'].quantile(0.50)\n",
    "qg2"
   ]
  },
  {
   "cell_type": "code",
   "execution_count": 127,
   "id": "8c7d13f6",
   "metadata": {},
   "outputs": [
    {
     "data": {
      "text/plain": [
       "5.0"
      ]
     },
     "execution_count": 127,
     "metadata": {},
     "output_type": "execute_result"
    }
   ],
   "source": [
    "qg3= pk['Generation'].quantile(0.75)\n",
    "qg3"
   ]
  },
  {
   "cell_type": "code",
   "execution_count": 128,
   "id": "775e34b8",
   "metadata": {},
   "outputs": [
    {
     "data": {
      "text/plain": [
       "3.0"
      ]
     },
     "execution_count": 128,
     "metadata": {},
     "output_type": "execute_result"
    }
   ],
   "source": [
    "#inter=quantile region:\n",
    "IQR_G=qg3-qg1\n",
    "IQR_G"
   ]
  },
  {
   "cell_type": "code",
   "execution_count": 129,
   "id": "d44cc6d7",
   "metadata": {},
   "outputs": [
    {
     "data": {
      "text/plain": [
       "-2.5"
      ]
     },
     "execution_count": 129,
     "metadata": {},
     "output_type": "execute_result"
    }
   ],
   "source": [
    "lbg = qg1-1.5*IQR_G\n",
    "lbg"
   ]
  },
  {
   "cell_type": "code",
   "execution_count": 130,
   "id": "bd84233a",
   "metadata": {},
   "outputs": [
    {
     "data": {
      "text/plain": [
       "9.5"
      ]
     },
     "execution_count": 130,
     "metadata": {},
     "output_type": "execute_result"
    }
   ],
   "source": [
    "ubg = qg3+1.5*IQR_G\n",
    "ubg"
   ]
  },
  {
   "cell_type": "code",
   "execution_count": 131,
   "id": "b17800c3",
   "metadata": {},
   "outputs": [
    {
     "data": {
      "image/png": "[encoded data removed]",
      "text/plain": [
       "<Figure size 432x288 with 1 Axes>"
      ]
     },
     "metadata": {
      "needs_background": "light"
     },
     "output_type": "display_data"
    }
   ],
   "source": [
    "plt.boxplot(pk['Generation']);"
   ]
  },
  {
   "cell_type": "markdown",
   "id": "775a562b",
   "metadata": {},
   "source": [
    "### NO OUTLIERS ARE PRESENT"
   ]
  },
  {
   "cell_type": "code",
   "execution_count": 132,
   "id": "7c4d4f90",
   "metadata": {},
   "outputs": [
    {
     "data": {
      "text/plain": [
       "0.014258100279990539"
      ]
     },
     "execution_count": 132,
     "metadata": {},
     "output_type": "execute_result"
    }
   ],
   "source": [
    "pk['Generation'].skew()"
   ]
  },
  {
   "cell_type": "markdown",
   "id": "30729fed",
   "metadata": {},
   "source": [
    "### Generation is fairly skewed"
   ]
  },
  {
   "cell_type": "code",
   "execution_count": 133,
   "id": "4e858b84",
   "metadata": {},
   "outputs": [
    {
     "data": {
      "text/plain": [
       "-1.2395757575999116"
      ]
     },
     "execution_count": 133,
     "metadata": {},
     "output_type": "execute_result"
    }
   ],
   "source": [
    "pk['Generation'].kurt()"
   ]
  },
  {
   "cell_type": "markdown",
   "id": "c83ab84a",
   "metadata": {},
   "source": [
    "### Kurtosis is negative and less than 3. Hence the peak is pointy and has lack of outliers."
   ]
  },
  {
   "cell_type": "code",
   "execution_count": 134,
   "id": "e236a2d5",
   "metadata": {},
   "outputs": [
    {
     "data": {
      "text/plain": [
       "<AxesSubplot:ylabel='Frequency'>"
      ]
     },
     "execution_count": 134,
     "metadata": {},
     "output_type": "execute_result"
    },
    {
     "data": {
      "image/png": "[encoded data removed]",
      "text/plain": [
       "<Figure size 432x288 with 1 Axes>"
      ]
     },
     "metadata": {
      "needs_background": "light"
     },
     "output_type": "display_data"
    }
   ],
   "source": [
    "pk['Generation'].plot(kind='hist')"
   ]
  },
  {
   "cell_type": "code",
   "execution_count": 135,
   "id": "2ea8c445",
   "metadata": {},
   "outputs": [
    {
     "data": {
      "text/plain": [
       "<AxesSubplot:ylabel='Density'>"
      ]
     },
     "execution_count": 135,
     "metadata": {},
     "output_type": "execute_result"
    },
    {
     "data": {
      "image/png": "[encoded data removed]",
      "text/plain": [
       "<Figure size 432x288 with 1 Axes>"
      ]
     },
     "metadata": {
      "needs_background": "light"
     },
     "output_type": "display_data"
    }
   ],
   "source": [
    "pk['Generation'].plot(kind='kde')"
   ]
  },
  {
   "cell_type": "markdown",
   "id": "996f3705",
   "metadata": {},
   "source": [
    "### GENERATION IS PLATYKURTIC IN NATURE."
   ]
  },
  {
   "cell_type": "code",
   "execution_count": null,
   "id": "ba3616c7",
   "metadata": {},
   "outputs": [],
   "source": []
  }
 ],
 "metadata": {
  "kernelspec": {
   "display_name": "Python 3",
   "language": "python",
   "name": "python3"
  },
  "language_info": {
   "codemirror_mode": {
    "name": "ipython",
    "version": 3
   },
   "file_extension": ".py",
   "mimetype": "text/x-python",
   "name": "python",
   "nbconvert_exporter": "python",
   "pygments_lexer": "ipython3",
   "version": "3.8.8"
  }
 },
 "nbformat": 4,
 "nbformat_minor": 5
}
